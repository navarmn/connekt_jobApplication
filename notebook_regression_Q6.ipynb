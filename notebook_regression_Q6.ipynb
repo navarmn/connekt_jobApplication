{
 "cells": [
  {
   "cell_type": "code",
   "execution_count": 1,
   "metadata": {
    "collapsed": true
   },
   "outputs": [],
   "source": [
    "import numpy as np\n",
    "import pandas as pd\n",
    "import matplotlib.pyplot as plt\n",
    "\n",
    "plt.style.use('./seaborn-poster__navar.mplstyle')"
   ]
  },
  {
   "cell_type": "code",
   "execution_count": 2,
   "metadata": {},
   "outputs": [
    {
     "data": {
      "text/html": [
       "<div>\n",
       "<style>\n",
       "    .dataframe thead tr:only-child th {\n",
       "        text-align: right;\n",
       "    }\n",
       "\n",
       "    .dataframe thead th {\n",
       "        text-align: left;\n",
       "    }\n",
       "\n",
       "    .dataframe tbody tr th {\n",
       "        vertical-align: top;\n",
       "    }\n",
       "</style>\n",
       "<table border=\"1\" class=\"dataframe\">\n",
       "  <thead>\n",
       "    <tr style=\"text-align: right;\">\n",
       "      <th></th>\n",
       "      <th>x0</th>\n",
       "      <th>x1</th>\n",
       "      <th>x2</th>\n",
       "      <th>x3</th>\n",
       "      <th>x4</th>\n",
       "      <th>x5</th>\n",
       "      <th>x6</th>\n",
       "      <th>x7</th>\n",
       "      <th>x8</th>\n",
       "      <th>x9</th>\n",
       "      <th>target</th>\n",
       "    </tr>\n",
       "  </thead>\n",
       "  <tbody>\n",
       "    <tr>\n",
       "      <th>0</th>\n",
       "      <td>-0.351837</td>\n",
       "      <td>0.719462</td>\n",
       "      <td>0.862522</td>\n",
       "      <td>-1.131049</td>\n",
       "      <td>0.744903</td>\n",
       "      <td>0.532177</td>\n",
       "      <td>1.595572</td>\n",
       "      <td>0.607174</td>\n",
       "      <td>1.306696</td>\n",
       "      <td>0.450022</td>\n",
       "      <td>170.471696</td>\n",
       "    </tr>\n",
       "    <tr>\n",
       "      <th>1</th>\n",
       "      <td>-0.309565</td>\n",
       "      <td>0.786033</td>\n",
       "      <td>1.175365</td>\n",
       "      <td>-1.149287</td>\n",
       "      <td>0.318301</td>\n",
       "      <td>0.620987</td>\n",
       "      <td>1.470917</td>\n",
       "      <td>0.568968</td>\n",
       "      <td>1.334661</td>\n",
       "      <td>-0.267235</td>\n",
       "      <td>151.023999</td>\n",
       "    </tr>\n",
       "    <tr>\n",
       "      <th>2</th>\n",
       "      <td>-1.808729</td>\n",
       "      <td>-0.581660</td>\n",
       "      <td>-0.052200</td>\n",
       "      <td>-2.411602</td>\n",
       "      <td>0.171517</td>\n",
       "      <td>-1.174627</td>\n",
       "      <td>0.010317</td>\n",
       "      <td>-0.677372</td>\n",
       "      <td>0.841643</td>\n",
       "      <td>-1.186626</td>\n",
       "      <td>-268.606299</td>\n",
       "    </tr>\n",
       "    <tr>\n",
       "      <th>3</th>\n",
       "      <td>-0.386627</td>\n",
       "      <td>0.991724</td>\n",
       "      <td>0.234672</td>\n",
       "      <td>-0.431101</td>\n",
       "      <td>-0.160947</td>\n",
       "      <td>0.521185</td>\n",
       "      <td>1.957080</td>\n",
       "      <td>0.651099</td>\n",
       "      <td>0.933481</td>\n",
       "      <td>1.280705</td>\n",
       "      <td>180.737656</td>\n",
       "    </tr>\n",
       "    <tr>\n",
       "      <th>4</th>\n",
       "      <td>-0.879158</td>\n",
       "      <td>0.106556</td>\n",
       "      <td>0.775418</td>\n",
       "      <td>-1.046543</td>\n",
       "      <td>0.097267</td>\n",
       "      <td>-0.757026</td>\n",
       "      <td>1.050900</td>\n",
       "      <td>-0.262257</td>\n",
       "      <td>1.383563</td>\n",
       "      <td>-1.152509</td>\n",
       "      <td>-38.200673</td>\n",
       "    </tr>\n",
       "  </tbody>\n",
       "</table>\n",
       "</div>"
      ],
      "text/plain": [
       "         x0        x1        x2        x3        x4        x5        x6  \\\n",
       "0 -0.351837  0.719462  0.862522 -1.131049  0.744903  0.532177  1.595572   \n",
       "1 -0.309565  0.786033  1.175365 -1.149287  0.318301  0.620987  1.470917   \n",
       "2 -1.808729 -0.581660 -0.052200 -2.411602  0.171517 -1.174627  0.010317   \n",
       "3 -0.386627  0.991724  0.234672 -0.431101 -0.160947  0.521185  1.957080   \n",
       "4 -0.879158  0.106556  0.775418 -1.046543  0.097267 -0.757026  1.050900   \n",
       "\n",
       "         x7        x8        x9      target  \n",
       "0  0.607174  1.306696  0.450022  170.471696  \n",
       "1  0.568968  1.334661 -0.267235  151.023999  \n",
       "2 -0.677372  0.841643 -1.186626 -268.606299  \n",
       "3  0.651099  0.933481  1.280705  180.737656  \n",
       "4 -0.262257  1.383563 -1.152509  -38.200673  "
      ]
     },
     "execution_count": 2,
     "metadata": {},
     "output_type": "execute_result"
    }
   ],
   "source": [
    "# load dataset:\n",
    "data_raw = pd.read_csv('regressao_Q6.csv')\n",
    "data_raw.head()"
   ]
  },
  {
   "cell_type": "code",
   "execution_count": 3,
   "metadata": {},
   "outputs": [
    {
     "data": {
      "text/plain": [
       "(1100, 11)"
      ]
     },
     "execution_count": 3,
     "metadata": {},
     "output_type": "execute_result"
    }
   ],
   "source": [
    "# dataset size:\n",
    "data_raw.shape"
   ]
  },
  {
   "cell_type": "markdown",
   "metadata": {},
   "source": [
    "# Data exploration"
   ]
  },
  {
   "cell_type": "markdown",
   "metadata": {},
   "source": [
    "It is import to explore general information and simple statistical descriptions in our data before modeling."
   ]
  },
  {
   "cell_type": "code",
   "execution_count": 4,
   "metadata": {},
   "outputs": [
    {
     "name": "stdout",
     "output_type": "stream",
     "text": [
      "<class 'pandas.core.frame.DataFrame'>\n",
      "RangeIndex: 1100 entries, 0 to 1099\n",
      "Data columns (total 11 columns):\n",
      "x0        1100 non-null float64\n",
      "x1        1100 non-null float64\n",
      "x2        1100 non-null float64\n",
      "x3        1100 non-null float64\n",
      "x4        1100 non-null float64\n",
      "x5        1100 non-null float64\n",
      "x6        1100 non-null float64\n",
      "x7        1100 non-null float64\n",
      "x8        1100 non-null float64\n",
      "x9        1100 non-null float64\n",
      "target    1100 non-null float64\n",
      "dtypes: float64(11)\n",
      "memory usage: 94.6 KB\n"
     ]
    }
   ],
   "source": [
    "data_raw.info()"
   ]
  },
  {
   "cell_type": "markdown",
   "metadata": {},
   "source": [
    "All right. There are no missing values in any of features, so there is no need for cleaning."
   ]
  },
  {
   "cell_type": "code",
   "execution_count": 5,
   "metadata": {},
   "outputs": [
    {
     "data": {
      "text/html": [
       "<div>\n",
       "<style>\n",
       "    .dataframe thead tr:only-child th {\n",
       "        text-align: right;\n",
       "    }\n",
       "\n",
       "    .dataframe thead th {\n",
       "        text-align: left;\n",
       "    }\n",
       "\n",
       "    .dataframe tbody tr th {\n",
       "        vertical-align: top;\n",
       "    }\n",
       "</style>\n",
       "<table border=\"1\" class=\"dataframe\">\n",
       "  <thead>\n",
       "    <tr style=\"text-align: right;\">\n",
       "      <th></th>\n",
       "      <th>x0</th>\n",
       "      <th>x1</th>\n",
       "      <th>x2</th>\n",
       "      <th>x3</th>\n",
       "      <th>x4</th>\n",
       "      <th>x5</th>\n",
       "      <th>x6</th>\n",
       "      <th>x7</th>\n",
       "      <th>x8</th>\n",
       "      <th>x9</th>\n",
       "      <th>target</th>\n",
       "    </tr>\n",
       "  </thead>\n",
       "  <tbody>\n",
       "    <tr>\n",
       "      <th>count</th>\n",
       "      <td>1100.000000</td>\n",
       "      <td>1100.000000</td>\n",
       "      <td>1100.000000</td>\n",
       "      <td>1100.000000</td>\n",
       "      <td>1100.000000</td>\n",
       "      <td>1100.000000</td>\n",
       "      <td>1100.000000</td>\n",
       "      <td>1100.000000</td>\n",
       "      <td>1100.000000</td>\n",
       "      <td>1100.000000</td>\n",
       "      <td>1100.000000</td>\n",
       "    </tr>\n",
       "    <tr>\n",
       "      <th>mean</th>\n",
       "      <td>-1.002997</td>\n",
       "      <td>0.189454</td>\n",
       "      <td>1.109137</td>\n",
       "      <td>-1.113190</td>\n",
       "      <td>0.603726</td>\n",
       "      <td>-0.019403</td>\n",
       "      <td>0.994510</td>\n",
       "      <td>0.083858</td>\n",
       "      <td>1.649084</td>\n",
       "      <td>-0.040896</td>\n",
       "      <td>114.861472</td>\n",
       "    </tr>\n",
       "    <tr>\n",
       "      <th>std</th>\n",
       "      <td>1.008993</td>\n",
       "      <td>1.010803</td>\n",
       "      <td>1.002198</td>\n",
       "      <td>1.022927</td>\n",
       "      <td>1.004533</td>\n",
       "      <td>0.994486</td>\n",
       "      <td>1.011702</td>\n",
       "      <td>0.985274</td>\n",
       "      <td>0.997925</td>\n",
       "      <td>0.967945</td>\n",
       "      <td>406.232648</td>\n",
       "    </tr>\n",
       "    <tr>\n",
       "      <th>min</th>\n",
       "      <td>-4.325472</td>\n",
       "      <td>-3.589845</td>\n",
       "      <td>-1.644765</td>\n",
       "      <td>-4.571234</td>\n",
       "      <td>-2.608200</td>\n",
       "      <td>-2.953024</td>\n",
       "      <td>-2.438165</td>\n",
       "      <td>-2.670117</td>\n",
       "      <td>-1.196776</td>\n",
       "      <td>-3.409903</td>\n",
       "      <td>-1281.857668</td>\n",
       "    </tr>\n",
       "    <tr>\n",
       "      <th>25%</th>\n",
       "      <td>-1.689961</td>\n",
       "      <td>-0.527589</td>\n",
       "      <td>0.378677</td>\n",
       "      <td>-1.838102</td>\n",
       "      <td>-0.090648</td>\n",
       "      <td>-0.727956</td>\n",
       "      <td>0.283715</td>\n",
       "      <td>-0.616396</td>\n",
       "      <td>0.916093</td>\n",
       "      <td>-0.689695</td>\n",
       "      <td>-189.324835</td>\n",
       "    </tr>\n",
       "    <tr>\n",
       "      <th>50%</th>\n",
       "      <td>-1.035433</td>\n",
       "      <td>0.201590</td>\n",
       "      <td>1.099582</td>\n",
       "      <td>-1.107471</td>\n",
       "      <td>0.599418</td>\n",
       "      <td>-0.008286</td>\n",
       "      <td>0.996440</td>\n",
       "      <td>0.080294</td>\n",
       "      <td>1.658643</td>\n",
       "      <td>-0.011887</td>\n",
       "      <td>116.733497</td>\n",
       "    </tr>\n",
       "    <tr>\n",
       "      <th>75%</th>\n",
       "      <td>-0.288498</td>\n",
       "      <td>0.883728</td>\n",
       "      <td>1.781158</td>\n",
       "      <td>-0.411516</td>\n",
       "      <td>1.267717</td>\n",
       "      <td>0.655444</td>\n",
       "      <td>1.672278</td>\n",
       "      <td>0.716893</td>\n",
       "      <td>2.319819</td>\n",
       "      <td>0.614823</td>\n",
       "      <td>389.550149</td>\n",
       "    </tr>\n",
       "    <tr>\n",
       "      <th>max</th>\n",
       "      <td>1.989571</td>\n",
       "      <td>3.051529</td>\n",
       "      <td>4.340960</td>\n",
       "      <td>1.976963</td>\n",
       "      <td>3.814942</td>\n",
       "      <td>2.943701</td>\n",
       "      <td>4.135999</td>\n",
       "      <td>2.989202</td>\n",
       "      <td>4.778981</td>\n",
       "      <td>3.843236</td>\n",
       "      <td>1370.781397</td>\n",
       "    </tr>\n",
       "  </tbody>\n",
       "</table>\n",
       "</div>"
      ],
      "text/plain": [
       "                x0           x1           x2           x3           x4  \\\n",
       "count  1100.000000  1100.000000  1100.000000  1100.000000  1100.000000   \n",
       "mean     -1.002997     0.189454     1.109137    -1.113190     0.603726   \n",
       "std       1.008993     1.010803     1.002198     1.022927     1.004533   \n",
       "min      -4.325472    -3.589845    -1.644765    -4.571234    -2.608200   \n",
       "25%      -1.689961    -0.527589     0.378677    -1.838102    -0.090648   \n",
       "50%      -1.035433     0.201590     1.099582    -1.107471     0.599418   \n",
       "75%      -0.288498     0.883728     1.781158    -0.411516     1.267717   \n",
       "max       1.989571     3.051529     4.340960     1.976963     3.814942   \n",
       "\n",
       "                x5           x6           x7           x8           x9  \\\n",
       "count  1100.000000  1100.000000  1100.000000  1100.000000  1100.000000   \n",
       "mean     -0.019403     0.994510     0.083858     1.649084    -0.040896   \n",
       "std       0.994486     1.011702     0.985274     0.997925     0.967945   \n",
       "min      -2.953024    -2.438165    -2.670117    -1.196776    -3.409903   \n",
       "25%      -0.727956     0.283715    -0.616396     0.916093    -0.689695   \n",
       "50%      -0.008286     0.996440     0.080294     1.658643    -0.011887   \n",
       "75%       0.655444     1.672278     0.716893     2.319819     0.614823   \n",
       "max       2.943701     4.135999     2.989202     4.778981     3.843236   \n",
       "\n",
       "            target  \n",
       "count  1100.000000  \n",
       "mean    114.861472  \n",
       "std     406.232648  \n",
       "min   -1281.857668  \n",
       "25%    -189.324835  \n",
       "50%     116.733497  \n",
       "75%     389.550149  \n",
       "max    1370.781397  "
      ]
     },
     "execution_count": 5,
     "metadata": {},
     "output_type": "execute_result"
    }
   ],
   "source": [
    "data_raw.describe()"
   ]
  },
  {
   "cell_type": "markdown",
   "metadata": {},
   "source": [
    "Features and targets are have different ranges of values. Acctualy, the targe is around 100 time larger than any of features. This is indicates we have to standardize our data before any Machine Learning modeling. But, we'll do it later."
   ]
  },
  {
   "cell_type": "markdown",
   "metadata": {},
   "source": [
    "Before feeding any ML algorithm it is import to analyze other statics measures, such as correlation."
   ]
  },
  {
   "cell_type": "code",
   "execution_count": 6,
   "metadata": {},
   "outputs": [
    {
     "data": {
      "text/html": [
       "<div>\n",
       "<style>\n",
       "    .dataframe thead tr:only-child th {\n",
       "        text-align: right;\n",
       "    }\n",
       "\n",
       "    .dataframe thead th {\n",
       "        text-align: left;\n",
       "    }\n",
       "\n",
       "    .dataframe tbody tr th {\n",
       "        vertical-align: top;\n",
       "    }\n",
       "</style>\n",
       "<table border=\"1\" class=\"dataframe\">\n",
       "  <thead>\n",
       "    <tr style=\"text-align: right;\">\n",
       "      <th></th>\n",
       "      <th>x0</th>\n",
       "      <th>x1</th>\n",
       "      <th>x2</th>\n",
       "      <th>x3</th>\n",
       "      <th>x4</th>\n",
       "      <th>x5</th>\n",
       "      <th>x6</th>\n",
       "      <th>x7</th>\n",
       "      <th>x8</th>\n",
       "      <th>x9</th>\n",
       "      <th>target</th>\n",
       "    </tr>\n",
       "  </thead>\n",
       "  <tbody>\n",
       "    <tr>\n",
       "      <th>x0</th>\n",
       "      <td>1.000000</td>\n",
       "      <td>0.941026</td>\n",
       "      <td>0.641012</td>\n",
       "      <td>0.802561</td>\n",
       "      <td>0.484129</td>\n",
       "      <td>0.879914</td>\n",
       "      <td>0.971804</td>\n",
       "      <td>0.850728</td>\n",
       "      <td>0.603428</td>\n",
       "      <td>0.725501</td>\n",
       "      <td>0.844990</td>\n",
       "    </tr>\n",
       "    <tr>\n",
       "      <th>x1</th>\n",
       "      <td>0.941026</td>\n",
       "      <td>1.000000</td>\n",
       "      <td>0.709930</td>\n",
       "      <td>0.861490</td>\n",
       "      <td>0.547903</td>\n",
       "      <td>0.822881</td>\n",
       "      <td>0.970757</td>\n",
       "      <td>0.794286</td>\n",
       "      <td>0.672605</td>\n",
       "      <td>0.672381</td>\n",
       "      <td>0.889208</td>\n",
       "    </tr>\n",
       "    <tr>\n",
       "      <th>x2</th>\n",
       "      <td>0.641012</td>\n",
       "      <td>0.709930</td>\n",
       "      <td>1.000000</td>\n",
       "      <td>0.851639</td>\n",
       "      <td>0.851708</td>\n",
       "      <td>0.513486</td>\n",
       "      <td>0.679348</td>\n",
       "      <td>0.485744</td>\n",
       "      <td>0.969183</td>\n",
       "      <td>0.358754</td>\n",
       "      <td>0.925727</td>\n",
       "    </tr>\n",
       "    <tr>\n",
       "      <th>x3</th>\n",
       "      <td>0.802561</td>\n",
       "      <td>0.861490</td>\n",
       "      <td>0.851639</td>\n",
       "      <td>1.000000</td>\n",
       "      <td>0.689892</td>\n",
       "      <td>0.679486</td>\n",
       "      <td>0.833622</td>\n",
       "      <td>0.651795</td>\n",
       "      <td>0.817202</td>\n",
       "      <td>0.532148</td>\n",
       "      <td>0.944246</td>\n",
       "    </tr>\n",
       "    <tr>\n",
       "      <th>x4</th>\n",
       "      <td>0.484129</td>\n",
       "      <td>0.547903</td>\n",
       "      <td>0.851708</td>\n",
       "      <td>0.689892</td>\n",
       "      <td>1.000000</td>\n",
       "      <td>0.340335</td>\n",
       "      <td>0.517215</td>\n",
       "      <td>0.321172</td>\n",
       "      <td>0.883906</td>\n",
       "      <td>0.184666</td>\n",
       "      <td>0.809933</td>\n",
       "    </tr>\n",
       "    <tr>\n",
       "      <th>x5</th>\n",
       "      <td>0.879914</td>\n",
       "      <td>0.822881</td>\n",
       "      <td>0.513486</td>\n",
       "      <td>0.679486</td>\n",
       "      <td>0.340335</td>\n",
       "      <td>1.000000</td>\n",
       "      <td>0.849623</td>\n",
       "      <td>0.969909</td>\n",
       "      <td>0.470190</td>\n",
       "      <td>0.843432</td>\n",
       "      <td>0.734993</td>\n",
       "    </tr>\n",
       "    <tr>\n",
       "      <th>x6</th>\n",
       "      <td>0.971804</td>\n",
       "      <td>0.970757</td>\n",
       "      <td>0.679348</td>\n",
       "      <td>0.833622</td>\n",
       "      <td>0.517215</td>\n",
       "      <td>0.849623</td>\n",
       "      <td>1.000000</td>\n",
       "      <td>0.819897</td>\n",
       "      <td>0.641658</td>\n",
       "      <td>0.698052</td>\n",
       "      <td>0.870162</td>\n",
       "    </tr>\n",
       "    <tr>\n",
       "      <th>x7</th>\n",
       "      <td>0.850728</td>\n",
       "      <td>0.794286</td>\n",
       "      <td>0.485744</td>\n",
       "      <td>0.651795</td>\n",
       "      <td>0.321172</td>\n",
       "      <td>0.969909</td>\n",
       "      <td>0.819897</td>\n",
       "      <td>1.000000</td>\n",
       "      <td>0.445088</td>\n",
       "      <td>0.871815</td>\n",
       "      <td>0.709495</td>\n",
       "    </tr>\n",
       "    <tr>\n",
       "      <th>x8</th>\n",
       "      <td>0.603428</td>\n",
       "      <td>0.672605</td>\n",
       "      <td>0.969183</td>\n",
       "      <td>0.817202</td>\n",
       "      <td>0.883906</td>\n",
       "      <td>0.470190</td>\n",
       "      <td>0.641658</td>\n",
       "      <td>0.445088</td>\n",
       "      <td>1.000000</td>\n",
       "      <td>0.317259</td>\n",
       "      <td>0.907807</td>\n",
       "    </tr>\n",
       "    <tr>\n",
       "      <th>x9</th>\n",
       "      <td>0.725501</td>\n",
       "      <td>0.672381</td>\n",
       "      <td>0.358754</td>\n",
       "      <td>0.532148</td>\n",
       "      <td>0.184666</td>\n",
       "      <td>0.843432</td>\n",
       "      <td>0.698052</td>\n",
       "      <td>0.871815</td>\n",
       "      <td>0.317259</td>\n",
       "      <td>1.000000</td>\n",
       "      <td>0.575656</td>\n",
       "    </tr>\n",
       "    <tr>\n",
       "      <th>target</th>\n",
       "      <td>0.844990</td>\n",
       "      <td>0.889208</td>\n",
       "      <td>0.925727</td>\n",
       "      <td>0.944246</td>\n",
       "      <td>0.809933</td>\n",
       "      <td>0.734993</td>\n",
       "      <td>0.870162</td>\n",
       "      <td>0.709495</td>\n",
       "      <td>0.907807</td>\n",
       "      <td>0.575656</td>\n",
       "      <td>1.000000</td>\n",
       "    </tr>\n",
       "  </tbody>\n",
       "</table>\n",
       "</div>"
      ],
      "text/plain": [
       "              x0        x1        x2        x3        x4        x5        x6  \\\n",
       "x0      1.000000  0.941026  0.641012  0.802561  0.484129  0.879914  0.971804   \n",
       "x1      0.941026  1.000000  0.709930  0.861490  0.547903  0.822881  0.970757   \n",
       "x2      0.641012  0.709930  1.000000  0.851639  0.851708  0.513486  0.679348   \n",
       "x3      0.802561  0.861490  0.851639  1.000000  0.689892  0.679486  0.833622   \n",
       "x4      0.484129  0.547903  0.851708  0.689892  1.000000  0.340335  0.517215   \n",
       "x5      0.879914  0.822881  0.513486  0.679486  0.340335  1.000000  0.849623   \n",
       "x6      0.971804  0.970757  0.679348  0.833622  0.517215  0.849623  1.000000   \n",
       "x7      0.850728  0.794286  0.485744  0.651795  0.321172  0.969909  0.819897   \n",
       "x8      0.603428  0.672605  0.969183  0.817202  0.883906  0.470190  0.641658   \n",
       "x9      0.725501  0.672381  0.358754  0.532148  0.184666  0.843432  0.698052   \n",
       "target  0.844990  0.889208  0.925727  0.944246  0.809933  0.734993  0.870162   \n",
       "\n",
       "              x7        x8        x9    target  \n",
       "x0      0.850728  0.603428  0.725501  0.844990  \n",
       "x1      0.794286  0.672605  0.672381  0.889208  \n",
       "x2      0.485744  0.969183  0.358754  0.925727  \n",
       "x3      0.651795  0.817202  0.532148  0.944246  \n",
       "x4      0.321172  0.883906  0.184666  0.809933  \n",
       "x5      0.969909  0.470190  0.843432  0.734993  \n",
       "x6      0.819897  0.641658  0.698052  0.870162  \n",
       "x7      1.000000  0.445088  0.871815  0.709495  \n",
       "x8      0.445088  1.000000  0.317259  0.907807  \n",
       "x9      0.871815  0.317259  1.000000  0.575656  \n",
       "target  0.709495  0.907807  0.575656  1.000000  "
      ]
     },
     "execution_count": 6,
     "metadata": {},
     "output_type": "execute_result"
    }
   ],
   "source": [
    "# Correlation Matrix:\n",
    "coor_mat = data_raw.corr()\n",
    "coor_mat"
   ]
  },
  {
   "cell_type": "markdown",
   "metadata": {},
   "source": [
    "Interesting...there are strong correlations between x0 and x1, x0 and x3, x0 and x6 and much more. By the way, in a real case scneario a correlation bigger than 0.2 should not be considered. For simplifications purposes we are considering \"strong\" correlations > 0.9.\n",
    "\n",
    "Let's plot one of the strong correlated variables:"
   ]
  },
  {
   "cell_type": "code",
   "execution_count": 7,
   "metadata": {},
   "outputs": [
    {
     "data": {
      "image/png": "[encoded data removed]",
      "text/plain": [
       "<Figure size 720x432 with 1 Axes>"
      ]
     },
     "metadata": {},
     "output_type": "display_data"
    }
   ],
   "source": [
    "data_raw.plot('x0', 'x6',kind='scatter', figsize=(10,6))\n",
    "plt.show()"
   ]
  },
  {
   "cell_type": "markdown",
   "metadata": {},
   "source": [
    "In fact, the scatter plot demonstrated its correlations. Now let's take a look the frequency distribution of data. A histogram is a clever way to visualize it."
   ]
  },
  {
   "cell_type": "code",
   "execution_count": 8,
   "metadata": {},
   "outputs": [
    {
     "data": {
      "image/png": "[encoded data removed]",
      "text/plain": [
       "<Figure size 1440x1080 with 12 Axes>"
      ]
     },
     "metadata": {},
     "output_type": "display_data"
    }
   ],
   "source": [
    "data_raw.hist(bins=50, figsize=(20,15))\n",
    "plt.show()"
   ]
  },
  {
   "cell_type": "markdown",
   "metadata": {},
   "source": [
    "Interisting...all features seems to be operating under a Gaussian distribuition, dispite some noite. It means we might try a model for regression using Gaussian functions."
   ]
  },
  {
   "cell_type": "markdown",
   "metadata": {},
   "source": [
    "# Data preparation"
   ]
  },
  {
   "cell_type": "markdown",
   "metadata": {},
   "source": [
    "First, let's randomly set aside 20% of samples to for further testing. This is often called a hold-out test set."
   ]
  },
  {
   "cell_type": "code",
   "execution_count": 9,
   "metadata": {
    "collapsed": true
   },
   "outputs": [],
   "source": [
    "from sklearn.model_selection import train_test_split\n",
    "\n",
    "data_raw_train, data_raw_teste = train_test_split(data_raw, test_size=0.2)\n",
    "\n",
    "data_raw_teste.to_csv('regressao_Q6__test.csv')"
   ]
  },
  {
   "cell_type": "markdown",
   "metadata": {},
   "source": [
    "NOTE: we only have **one** target and no categories in our feature, so there is no problem with randomly assign samples for the test set. However, it is import to use Stratified Sampling in order to avoid Sampling bias. That could comprimise integrity of the model."
   ]
  },
  {
   "cell_type": "markdown",
   "metadata": {},
   "source": [
    "## Standardization"
   ]
  },
  {
   "cell_type": "markdown",
   "metadata": {},
   "source": [
    "A \"strong\" way to standardize this set is using the statistical normalization, by removing the mean and dividing by the standard deviation. In this way all feature are going to have unit variance and zero mean."
   ]
  },
  {
   "cell_type": "code",
   "execution_count": 10,
   "metadata": {
    "collapsed": true
   },
   "outputs": [],
   "source": [
    "from sklearn.preprocessing import StandardScaler\n",
    "\n",
    "std_scaler = StandardScaler()\n",
    "data_raw_train_std = std_scaler.fit_transform(data_raw_train.values)"
   ]
  },
  {
   "cell_type": "code",
   "execution_count": 11,
   "metadata": {
    "collapsed": true
   },
   "outputs": [],
   "source": [
    "X_train = data_raw_train_std[:,:-1]\n",
    "y = data_raw_train_std[:,-1]"
   ]
  },
  {
   "cell_type": "code",
   "execution_count": 12,
   "metadata": {},
   "outputs": [
    {
     "name": "stdout",
     "output_type": "stream",
     "text": [
      "Unit variance of features:  [1. 1. 1. 1. 1. 1. 1. 1. 1. 1.]\n"
     ]
    }
   ],
   "source": [
    "print('Unit variance of features: ', X_train.var(axis=0))"
   ]
  },
  {
   "cell_type": "markdown",
   "metadata": {},
   "source": [
    "# Train models"
   ]
  },
  {
   "cell_type": "markdown",
   "metadata": {},
   "source": [
    "We accualy don't know each model are going to performe well on our data. Let's try a few, but if conscience. First,  we are going to pick in the following order one linear models, a ensemble method, and if **necessary**  a non-linear. Remember: Occam's razor principle!\n",
    "\n",
    "First, we are going to pick three regressors to see how they perform. Then, we are going to think about grid-searching and fine tuning they hyperparameters."
   ]
  },
  {
   "cell_type": "code",
   "execution_count": 13,
   "metadata": {
    "collapsed": true
   },
   "outputs": [],
   "source": [
    "from sklearn.linear_model import LinearRegression\n",
    "from sklearn.linear_model import SGDRegressor\n",
    "from sklearn.ensemble import RandomForestRegressor"
   ]
  },
  {
   "cell_type": "markdown",
   "metadata": {},
   "source": [
    "The choices are: linear Regression, since it the most simple method, based on Ordinary Least Squares (OLS); SGD is similar OLS, but its training is optmized by gradient descent; And, random forest classifier, it is sure not linear, but it a different approach, based on decision trees;"
   ]
  },
  {
   "cell_type": "markdown",
   "metadata": {},
   "source": [
    "We also need to chose a metric for evaluation. In most regression it is commom to use the Root Mean Squared Error (RMSE) of predicitons. That's is going to be our choice. By the way, a clever way is use cross-validation in all our experiments."
   ]
  },
  {
   "cell_type": "code",
   "execution_count": 14,
   "metadata": {
    "collapsed": true
   },
   "outputs": [],
   "source": [
    "from sklearn.model_selection import cross_val_score"
   ]
  },
  {
   "cell_type": "code",
   "execution_count": 15,
   "metadata": {
    "collapsed": true
   },
   "outputs": [],
   "source": [
    "ols_reg = LinearRegression()\n",
    "sgd_reg = SGDRegressor(max_iter=1000)\n",
    "rf_reg = RandomForestRegressor()"
   ]
  },
  {
   "cell_type": "markdown",
   "metadata": {
    "collapsed": true
   },
   "source": [
    "As said before, no need to worry about hyperparameters tunning **right now**. Scikit-learn has proper values by default."
   ]
  },
  {
   "cell_type": "code",
   "execution_count": 16,
   "metadata": {
    "collapsed": true
   },
   "outputs": [],
   "source": [
    "scores_ols_reg = cross_val_score(ols_reg, X_train, y, scoring='neg_mean_squared_error', cv=10)\n",
    "scores_sgd_reg = cross_val_score(sgd_reg, X_train, y, scoring='neg_mean_squared_error', cv=10)\n",
    "scores_rf_reg = cross_val_score(rf_reg, X_train, y, scoring='neg_mean_squared_error', cv=10)"
   ]
  },
  {
   "cell_type": "markdown",
   "metadata": {
    "collapsed": true
   },
   "source": [
    "cross_val_score function does not have by default RMSE implemented, since the scorgin attribute pass its argument to a optmizer to maximize score, but how intention is to MINIMIZE score, so we are going to arrange the results. Let's take a look how they performed."
   ]
  },
  {
   "cell_type": "code",
   "execution_count": 17,
   "metadata": {},
   "outputs": [
    {
     "name": "stdout",
     "output_type": "stream",
     "text": [
      "OLS regression average result: 0.06728684029814254\n",
      "SGD regression average result: 0.06731522434262756\n",
      "Random Forest regression average result: 0.14598967013842573\n"
     ]
    }
   ],
   "source": [
    "def rmse_score(input):\n",
    "    return np.sqrt(-input)\n",
    "\n",
    "print('OLS regression average result: {}'.format(rmse_score(scores_ols_reg).mean()))\n",
    "print('SGD regression average result: {}'.format(rmse_score(scores_sgd_reg).mean()))\n",
    "print('Random Forest regression average result: {}'.format(rmse_score(scores_rf_reg).mean()))"
   ]
  },
  {
   "cell_type": "markdown",
   "metadata": {},
   "source": [
    "How..turns out SGD and OLS perfomed better. I'm a bit curious about something: OLS is based on matrix inversion, and this can be numerical complicated to do when we have more samples than attributes. A solution is to regularize our model by an approach, such as Tikhonov. Fortunatelly, sklearn has already implemented :) it is called \"Ridge regression\". Let's see how it goes."
   ]
  },
  {
   "cell_type": "code",
   "execution_count": 18,
   "metadata": {},
   "outputs": [
    {
     "name": "stdout",
     "output_type": "stream",
     "text": [
      "OLS-regularized regression average result: 0.0672795888692556\n"
     ]
    }
   ],
   "source": [
    "from sklearn.linear_model import Ridge\n",
    "\n",
    "ols_tik_reg = Ridge(alpha=0.5)\n",
    "scores_ols_tik_reg = cross_val_score(ols_tik_reg, X_train, y, scoring='neg_mean_squared_error', cv=10)\n",
    "print('OLS-regularized regression average result: {}'.format(rmse_score(scores_ols_tik_reg).mean()))"
   ]
  },
  {
   "cell_type": "markdown",
   "metadata": {},
   "source": [
    "Aw...a bit of improvement. Let's keep it simple. Remember when said variable seemed to be Gaussian distributed? Let's try a Gaussian regressor and see how it goes. "
   ]
  },
  {
   "cell_type": "code",
   "execution_count": 40,
   "metadata": {},
   "outputs": [
    {
     "data": {
      "text/plain": [
       "(1100, 11)"
      ]
     },
     "execution_count": 40,
     "metadata": {},
     "output_type": "execute_result"
    }
   ],
   "source": [
    "data_raw.shape"
   ]
  },
  {
   "cell_type": "code",
   "execution_count": 50,
   "metadata": {},
   "outputs": [
    {
     "data": {
      "text/plain": [
       "1100"
      ]
     },
     "execution_count": 50,
     "metadata": {},
     "output_type": "execute_result"
    }
   ],
   "source": [
    "loo.get_n_splits(x_new)"
   ]
  },
  {
   "cell_type": "code",
   "execution_count": 41,
   "metadata": {},
   "outputs": [],
   "source": [
    "x_new = std_scaler.fit_transform(data_raw.drop('target', axis=1).values)\n",
    "y = data_raw['target']"
   ]
  },
  {
   "cell_type": "code",
   "execution_count": 56,
   "metadata": {
    "collapsed": true
   },
   "outputs": [],
   "source": [
    "from sklearn import metrics\n"
   ]
  },
  {
   "cell_type": "code",
   "execution_count": 68,
   "metadata": {},
   "outputs": [],
   "source": [
    "from sklearn.model_selection import LeaveOneOut\n",
    "from sklearn import metrics\n",
    "\n",
    "loo = LeaveOneOut()\n",
    "loo.get_n_splits(x_new)\n",
    "\n",
    "results_train = []\n",
    "results_test = []\n",
    "i=0\n",
    "for train_index, test_index in loo.split(x_new):\n",
    "    #print(\"TRAIN:\", train_index, \"TEST:\", test_index)\n",
    "    X_train, X_test = x_new[train_index], x_new[test_index]\n",
    "    y_train, y_test = y[train_index], y[test_index]\n",
    "    #print(X_train, X_test, y_train, y_test)\n",
    "    ols_tik_reg = Ridge(random_state=42,alpha=1.7)\n",
    "\n",
    "    ols_tik_reg.fit(X_train,y_train)\n",
    "    \n",
    "    y_pred_train = ols_tik_reg.predict(X_train)\n",
    "    y_pred_test = ols_tik_reg.predict(X_test)\n",
    "    \n",
    "    results_train.append(np.sqrt(metrics.regression.mean_squared_error(y_train,y_pred_train)))\n",
    "    results_test.append(np.sqrt(metrics.regression.mean_squared_error(y_test,y_pred_test)))\n",
    "        "
   ]
  },
  {
   "cell_type": "code",
   "execution_count": 69,
   "metadata": {},
   "outputs": [
    {
     "data": {
      "text/plain": [
       "27.431862261575162"
      ]
     },
     "execution_count": 69,
     "metadata": {},
     "output_type": "execute_result"
    }
   ],
   "source": [
    "np.mean(results_train)"
   ]
  },
  {
   "cell_type": "code",
   "execution_count": 70,
   "metadata": {},
   "outputs": [
    {
     "data": {
      "text/plain": [
       "22.058582214477344"
      ]
     },
     "execution_count": 70,
     "metadata": {},
     "output_type": "execute_result"
    }
   ],
   "source": [
    "np.mean(results_test)"
   ]
  },
  {
   "cell_type": "code",
   "execution_count": 53,
   "metadata": {
    "collapsed": true
   },
   "outputs": [],
   "source": [
    "x_new = std_scaler.fit_transform(data_raw.drop('target', axis=1).values)\n",
    "y = data_raw['target']"
   ]
  },
  {
   "cell_type": "code",
   "execution_count": 54,
   "metadata": {},
   "outputs": [
    {
     "name": "stdout",
     "output_type": "stream",
     "text": [
      "OLS-regularized regression average result: 22.058582214477344\n"
     ]
    }
   ],
   "source": [
    "scores_ols_tik_reg = cross_val_score(ols_tik_reg, x_new, y, scoring='neg_mean_squared_error', cv=1100)\n",
    "print('OLS-regularized regression average result: {}'.format(rmse_score(scores_ols_tik_reg).mean()))"
   ]
  },
  {
   "cell_type": "code",
   "execution_count": null,
   "metadata": {
    "collapsed": true
   },
   "outputs": [],
   "source": []
  },
  {
   "cell_type": "code",
   "execution_count": null,
   "metadata": {
    "collapsed": true
   },
   "outputs": [],
   "source": []
  },
  {
   "cell_type": "code",
   "execution_count": null,
   "metadata": {
    "collapsed": true
   },
   "outputs": [],
   "source": []
  },
  {
   "cell_type": "code",
   "execution_count": null,
   "metadata": {
    "collapsed": true
   },
   "outputs": [],
   "source": []
  },
  {
   "cell_type": "code",
   "execution_count": null,
   "metadata": {
    "collapsed": true
   },
   "outputs": [],
   "source": []
  },
  {
   "cell_type": "code",
   "execution_count": 19,
   "metadata": {},
   "outputs": [
    {
     "name": "stdout",
     "output_type": "stream",
     "text": [
      "Gaussian regression average result: 0.2403509633478857\n"
     ]
    }
   ],
   "source": [
    "from sklearn.gaussian_process import GaussianProcessRegressor\n",
    "\n",
    "gauss_reg = GaussianProcessRegressor()\n",
    "\n",
    "scores_gauss_reg = cross_val_score(gauss_reg, X_train, y, scoring='neg_mean_squared_error', cv=10)\n",
    "print('Gaussian regression average result: {}'.format(rmse_score(scores_gauss_reg).mean()))"
   ]
  },
  {
   "cell_type": "markdown",
   "metadata": {},
   "source": [
    "Not very good...we could try to use diferent kernels (i.e. different estimative for the covariance matrix), but linear model seem to be more promissing. Let's invest on finetuning SGD, if we have and improvement we drop OLS out."
   ]
  },
  {
   "cell_type": "code",
   "execution_count": null,
   "metadata": {
    "collapsed": true
   },
   "outputs": [],
   "source": []
  },
  {
   "cell_type": "code",
   "execution_count": null,
   "metadata": {
    "collapsed": true
   },
   "outputs": [],
   "source": []
  },
  {
   "cell_type": "code",
   "execution_count": null,
   "metadata": {
    "collapsed": true
   },
   "outputs": [],
   "source": []
  },
  {
   "cell_type": "code",
   "execution_count": null,
   "metadata": {
    "collapsed": true
   },
   "outputs": [],
   "source": []
  },
  {
   "cell_type": "code",
   "execution_count": null,
   "metadata": {
    "collapsed": true
   },
   "outputs": [],
   "source": []
  },
  {
   "cell_type": "code",
   "execution_count": null,
   "metadata": {
    "collapsed": true
   },
   "outputs": [],
   "source": []
  },
  {
   "cell_type": "code",
   "execution_count": null,
   "metadata": {
    "collapsed": true
   },
   "outputs": [],
   "source": []
  },
  {
   "cell_type": "code",
   "execution_count": 20,
   "metadata": {},
   "outputs": [
    {
     "ename": "NameError",
     "evalue": "name 'ml' is not defined",
     "output_type": "error",
     "traceback": [
      "\u001b[0;31m---------------------------------------------------------------------------\u001b[0m",
      "\u001b[0;31mNameError\u001b[0m                                 Traceback (most recent call last)",
      "\u001b[0;32m<ipython-input-20-1b730b9e8aaf>\u001b[0m in \u001b[0;36m<module>\u001b[0;34m()\u001b[0m\n\u001b[1;32m      5\u001b[0m             'n_iter': [100, 500, 1000]}]\n\u001b[1;32m      6\u001b[0m \u001b[0;34m\u001b[0m\u001b[0m\n\u001b[0;32m----> 7\u001b[0;31m \u001b[0mgrid_search_sgd\u001b[0m \u001b[0;34m=\u001b[0m \u001b[0mGridSearchCV\u001b[0m\u001b[0;34m(\u001b[0m\u001b[0mml\u001b[0m\u001b[0;34m,\u001b[0m \u001b[0mparam_grid\u001b[0m\u001b[0;34m,\u001b[0m \u001b[0mscoring\u001b[0m\u001b[0;34m=\u001b[0m\u001b[0;34m'neg_mean_squared_error'\u001b[0m\u001b[0;34m,\u001b[0m \u001b[0mcv\u001b[0m\u001b[0;34m=\u001b[0m\u001b[0;36m10\u001b[0m\u001b[0;34m,\u001b[0m \u001b[0mverbose\u001b[0m\u001b[0;34m=\u001b[0m\u001b[0;36m1\u001b[0m\u001b[0;34m)\u001b[0m\u001b[0;34m\u001b[0m\u001b[0m\n\u001b[0m\u001b[1;32m      8\u001b[0m \u001b[0;34m\u001b[0m\u001b[0m\n\u001b[1;32m      9\u001b[0m \u001b[0mgrid_search_sgd\u001b[0m\u001b[0;34m.\u001b[0m\u001b[0mfit\u001b[0m\u001b[0;34m(\u001b[0m\u001b[0mX_train\u001b[0m\u001b[0;34m,\u001b[0m \u001b[0my\u001b[0m\u001b[0;34m)\u001b[0m\u001b[0;34m\u001b[0m\u001b[0m\n",
      "\u001b[0;31mNameError\u001b[0m: name 'ml' is not defined"
     ]
    }
   ],
   "source": [
    "from sklearn.model_selection import GridSearchCV\n",
    "\n",
    "param_grid = [\n",
    "            {'eta0': [0.2, 0.1, 0.001, 0.0001], 'power_t': [0.5, 1],\n",
    "            'n_iter': [100, 500, 1000]}]\n",
    "\n",
    "grid_search_sgd = GridSearchCV(ml, param_grid, scoring='neg_mean_squared_error', cv=10, verbose=1)\n",
    "\n",
    "grid_search_sgd.fit(X_train, y)"
   ]
  },
  {
   "cell_type": "code",
   "execution_count": 21,
   "metadata": {},
   "outputs": [
    {
     "name": "stdout",
     "output_type": "stream",
     "text": [
      "SGD regression best result: 0.06871037435439598\n"
     ]
    }
   ],
   "source": [
    "print('SGD regression best result: {}'.format(rmse_score(grid_search_sgd.best_score_)))"
   ]
  },
  {
   "cell_type": "markdown",
   "metadata": {},
   "source": [
    "Turns out we already had achieved out \"proper\" hyperameter tuning..."
   ]
  },
  {
   "cell_type": "code",
   "execution_count": 22,
   "metadata": {},
   "outputs": [
    {
     "data": {
      "text/plain": [
       "LinearRegression(copy_X=True, fit_intercept=True, n_jobs=1, normalize=False)"
      ]
     },
     "execution_count": 22,
     "metadata": {},
     "output_type": "execute_result"
    }
   ],
   "source": [
    "ols_reg.fit(X_train, y)"
   ]
  },
  {
   "cell_type": "code",
   "execution_count": 23,
   "metadata": {
    "collapsed": true
   },
   "outputs": [],
   "source": [
    "y_plot_sgd = grid_search_sgd.predict(X_train)\n",
    "y_plot_ols = ols_reg.predict(X_train)"
   ]
  },
  {
   "cell_type": "code",
   "execution_count": 24,
   "metadata": {},
   "outputs": [
    {
     "data": {
      "image/png": "[encoded data removed]",
      "text/plain": [
       "<Figure size 921.6x633.6 with 1 Axes>"
      ]
     },
     "metadata": {},
     "output_type": "display_data"
    }
   ],
   "source": [
    "plt.plot(y[:100], 'ko', alpha=0.8, label='Targets')\n",
    "plt.plot(y_plot_sgd[:100], color='turquoise', alpha=0.8, label='SGD ({}'.format(grid_search_sgd.best_params_))\n",
    "plt.plot(y_plot_ols[:100], color='darkorange', label='OLS')\n",
    "plt.legend(loc='upper right')\n",
    "plt.show()"
   ]
  },
  {
   "cell_type": "markdown",
   "metadata": {},
   "source": [
    "Ouch!!! Overfitting???"
   ]
  },
  {
   "cell_type": "markdown",
   "metadata": {},
   "source": [
    "Let's take a look in just one of features x  targets and see how our model is perfomin in that subspace."
   ]
  },
  {
   "cell_type": "code",
   "execution_count": 32,
   "metadata": {
    "scrolled": true
   },
   "outputs": [
    {
     "data": {
      "image/png": "[encoded data removed]",
      "text/plain": [
       "<Figure size 504x360 with 1 Axes>"
      ]
     },
     "metadata": {},
     "output_type": "display_data"
    }
   ],
   "source": [
    "x0_plot = np.linspace(-3,3,X_train[:,0].shape[0])\n",
    "y_plot_sgd_x0 = grid_search_sgd.best_estimator_.coef_[0]*x0_plot + grid_search_sgd.best_estimator_.intercept_\n",
    "\n",
    "plt.figure(figsize=(7,5))\n",
    "plt.scatter(X_train[:,0],y, label='targets')\n",
    "plt.scatter(X_train[:,0],y_plot_sgd_x0, label='SGD')\n",
    "plt.legend(loc='upper right')\n",
    "plt.xlabel('x0')\n",
    "plt.ylabel('target')\n",
    "plt.show()"
   ]
  },
  {
   "cell_type": "markdown",
   "metadata": {},
   "source": [
    "Doesn't seem very good. We see there is a posivite correlation between target and x0. Lets retrain SGD with only this feature."
   ]
  },
  {
   "cell_type": "code",
   "execution_count": null,
   "metadata": {
    "collapsed": true
   },
   "outputs": [],
   "source": [
    "sgd_reg_x0 = SGDRegressor(max_iter=1000)\n",
    "sgd_reg_x0.fit(X_train[:,0].reshape((X_train[:,0].shape[0],1)), y)\n",
    "\n",
    "scores_sgd_reg_x0 = cross_val_score(sgd_reg_x0, X_train[:,0].reshape((X_train[:,0].shape[0],1)), y,\n",
    "                                   scoring='neg_mean_squared_error', cv=10)"
   ]
  },
  {
   "cell_type": "code",
   "execution_count": null,
   "metadata": {
    "collapsed": true
   },
   "outputs": [],
   "source": [
    "y_plot_sgd_x0 = sgd_reg_x0.coef_[0]*x0_plot + sgd_reg_x0.intercept_\n",
    "\n",
    "plt.scatter(X_train[:,0],y, label='targets')\n",
    "plt.plot(x0_plot,y_plot_sgd_x0, 'k', label='SGD - RMSE: {}'.format(rmse_score(scores_sgd_reg_x0).mean()))\n",
    "plt.legend(loc='upper right')\n",
    "plt.xlabel('x0')\n",
    "plt.ylabel('target')\n",
    "plt.show()"
   ]
  },
  {
   "cell_type": "markdown",
   "metadata": {},
   "source": [
    "Our RMSE rised up from 0.07 to 0.54. It seems worse, but we can't conclude anything until we try on our test set. Let's do it."
   ]
  },
  {
   "cell_type": "markdown",
   "metadata": {},
   "source": [
    "# Running on test set"
   ]
  },
  {
   "cell_type": "code",
   "execution_count": null,
   "metadata": {
    "collapsed": true
   },
   "outputs": [],
   "source": [
    "data_test = pd.read_csv('regressao_Q6__test.csv')\n",
    "data_test.head()"
   ]
  },
  {
   "cell_type": "code",
   "execution_count": null,
   "metadata": {
    "collapsed": true
   },
   "outputs": [],
   "source": [
    "data_test.drop(['Unnamed: 0'], axis=1, inplace=True)"
   ]
  },
  {
   "cell_type": "markdown",
   "metadata": {},
   "source": [
    "We have to submited to the same standardization object we did during our training."
   ]
  },
  {
   "cell_type": "code",
   "execution_count": null,
   "metadata": {
    "collapsed": true
   },
   "outputs": [],
   "source": [
    "data_test_std = std_scaler.transform(data_test)"
   ]
  },
  {
   "cell_type": "markdown",
   "metadata": {},
   "source": [
    "Now, let's fed in our model!"
   ]
  },
  {
   "cell_type": "code",
   "execution_count": null,
   "metadata": {
    "collapsed": true
   },
   "outputs": [],
   "source": [
    "X_test = data_test_std[:,:-1]\n",
    "y_test_target = data_test_std[:,-1]\n",
    "\n",
    "y_pred = sgd_reg.predict(X_test)\n",
    "y_pred_x0 = sgd_reg_x0.predict(X_test[:,0].reshape((X_test[:,0].shape[0],1)))"
   ]
  },
  {
   "cell_type": "code",
   "execution_count": null,
   "metadata": {
    "collapsed": true,
    "scrolled": true
   },
   "outputs": [],
   "source": [
    "from sklearn.metrics import mean_squared_error\n",
    "\n",
    "print('RMSE in test set with SGD and all features: {}'.format(np.sqrt(mean_squared_error(y_test_target,y_pred))))\n",
    "print('RMSE in test set with SGD with only x0: {}'.format(np.sqrt(mean_squared_error(y_test_target,y_pred_x0))))"
   ]
  },
  {
   "cell_type": "code",
   "execution_count": null,
   "metadata": {
    "collapsed": true
   },
   "outputs": [],
   "source": []
  },
  {
   "cell_type": "code",
   "execution_count": null,
   "metadata": {
    "collapsed": true
   },
   "outputs": [],
   "source": []
  },
  {
   "cell_type": "code",
   "execution_count": null,
   "metadata": {
    "collapsed": true
   },
   "outputs": [],
   "source": []
  },
  {
   "cell_type": "code",
   "execution_count": null,
   "metadata": {
    "collapsed": true
   },
   "outputs": [],
   "source": []
  },
  {
   "cell_type": "code",
   "execution_count": null,
   "metadata": {
    "collapsed": true
   },
   "outputs": [],
   "source": []
  }
 ],
 "metadata": {
  "kernelspec": {
   "display_name": "Python 3",
   "language": "python",
   "name": "python3"
  },
  "language_info": {
   "codemirror_mode": {
    "name": "ipython",
    "version": 3
   },
   "file_extension": ".py",
   "mimetype": "text/x-python",
   "name": "python",
   "nbconvert_exporter": "python",
   "pygments_lexer": "ipython3",
   "version": "3.6.2"
  }
 },
 "nbformat": 4,
 "nbformat_minor": 2
}
