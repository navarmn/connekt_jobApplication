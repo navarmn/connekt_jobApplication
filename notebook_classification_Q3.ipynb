{
 "cells": [
  {
   "cell_type": "code",
   "execution_count": 1,
   "metadata": {
    "collapsed": true
   },
   "outputs": [],
   "source": [
    "import numpy as np\n",
    "import pandas as pd\n",
    "import matplotlib.pyplot as plt\n",
    "\n",
    "plt.style.use('./seaborn-poster__navar.mplstyle')"
   ]
  },
  {
   "cell_type": "code",
   "execution_count": 2,
   "metadata": {},
   "outputs": [
    {
     "data": {
      "text/html": [
       "<div>\n",
       "<style>\n",
       "    .dataframe thead tr:only-child th {\n",
       "        text-align: right;\n",
       "    }\n",
       "\n",
       "    .dataframe thead th {\n",
       "        text-align: left;\n",
       "    }\n",
       "\n",
       "    .dataframe tbody tr th {\n",
       "        vertical-align: top;\n",
       "    }\n",
       "</style>\n",
       "<table border=\"1\" class=\"dataframe\">\n",
       "  <thead>\n",
       "    <tr style=\"text-align: right;\">\n",
       "      <th></th>\n",
       "      <th>Genero</th>\n",
       "      <th>Idade</th>\n",
       "      <th>Escolaridade</th>\n",
       "      <th>Profissao</th>\n",
       "      <th>Target</th>\n",
       "    </tr>\n",
       "  </thead>\n",
       "  <tbody>\n",
       "    <tr>\n",
       "      <th>0</th>\n",
       "      <td>F</td>\n",
       "      <td>a - Ate 25 anos</td>\n",
       "      <td>Fundamental</td>\n",
       "      <td>b</td>\n",
       "      <td>0</td>\n",
       "    </tr>\n",
       "    <tr>\n",
       "      <th>1</th>\n",
       "      <td>M</td>\n",
       "      <td>a - Ate 25 anos</td>\n",
       "      <td>Medio</td>\n",
       "      <td>d</td>\n",
       "      <td>1</td>\n",
       "    </tr>\n",
       "    <tr>\n",
       "      <th>2</th>\n",
       "      <td>F</td>\n",
       "      <td>c - 36 a 45 anos</td>\n",
       "      <td>Fundamental</td>\n",
       "      <td>a</td>\n",
       "      <td>1</td>\n",
       "    </tr>\n",
       "    <tr>\n",
       "      <th>3</th>\n",
       "      <td>M</td>\n",
       "      <td>d - 46 a 55 anos</td>\n",
       "      <td>Fundamental</td>\n",
       "      <td>a</td>\n",
       "      <td>0</td>\n",
       "    </tr>\n",
       "    <tr>\n",
       "      <th>4</th>\n",
       "      <td>F</td>\n",
       "      <td>c - 36 a 45 anos</td>\n",
       "      <td>Fundamental</td>\n",
       "      <td>b</td>\n",
       "      <td>1</td>\n",
       "    </tr>\n",
       "  </tbody>\n",
       "</table>\n",
       "</div>"
      ],
      "text/plain": [
       "  Genero             Idade Escolaridade Profissao  Target\n",
       "0      F  a - Ate 25 anos   Fundamental         b       0\n",
       "1      M  a - Ate 25 anos         Medio         d       1\n",
       "2      F  c - 36 a 45 anos  Fundamental         a       1\n",
       "3      M  d - 46 a 55 anos  Fundamental         a       0\n",
       "4      F  c - 36 a 45 anos  Fundamental         b       1"
      ]
     },
     "execution_count": 2,
     "metadata": {},
     "output_type": "execute_result"
    }
   ],
   "source": [
    "# load dataset:\n",
    "data_raw = pd.read_csv('classificacao_Q3.csv')\n",
    "data_raw.head()"
   ]
  },
  {
   "cell_type": "code",
   "execution_count": 3,
   "metadata": {},
   "outputs": [
    {
     "data": {
      "text/plain": [
       "(1000, 5)"
      ]
     },
     "execution_count": 3,
     "metadata": {},
     "output_type": "execute_result"
    }
   ],
   "source": [
    "# dataset size:\n",
    "data_raw.shape"
   ]
  },
  {
   "cell_type": "markdown",
   "metadata": {},
   "source": [
    "# Data exploration"
   ]
  },
  {
   "cell_type": "markdown",
   "metadata": {},
   "source": [
    "It is import to explore general information and simple statistical descriptions in our data before modeling."
   ]
  },
  {
   "cell_type": "code",
   "execution_count": 4,
   "metadata": {},
   "outputs": [
    {
     "name": "stdout",
     "output_type": "stream",
     "text": [
      "<class 'pandas.core.frame.DataFrame'>\n",
      "RangeIndex: 1000 entries, 0 to 999\n",
      "Data columns (total 5 columns):\n",
      "Genero          1000 non-null object\n",
      "Idade           1000 non-null object\n",
      "Escolaridade    1000 non-null object\n",
      "Profissao       1000 non-null object\n",
      "Target          1000 non-null int64\n",
      "dtypes: int64(1), object(4)\n",
      "memory usage: 39.1+ KB\n"
     ]
    }
   ],
   "source": [
    "data_raw.info()"
   ]
  },
  {
   "cell_type": "markdown",
   "metadata": {},
   "source": [
    "All right. There are no missing values in any of features, so there is no need for cleaning."
   ]
  },
  {
   "cell_type": "code",
   "execution_count": 5,
   "metadata": {},
   "outputs": [
    {
     "data": {
      "text/html": [
       "<div>\n",
       "<style>\n",
       "    .dataframe thead tr:only-child th {\n",
       "        text-align: right;\n",
       "    }\n",
       "\n",
       "    .dataframe thead th {\n",
       "        text-align: left;\n",
       "    }\n",
       "\n",
       "    .dataframe tbody tr th {\n",
       "        vertical-align: top;\n",
       "    }\n",
       "</style>\n",
       "<table border=\"1\" class=\"dataframe\">\n",
       "  <thead>\n",
       "    <tr style=\"text-align: right;\">\n",
       "      <th></th>\n",
       "      <th>Target</th>\n",
       "    </tr>\n",
       "  </thead>\n",
       "  <tbody>\n",
       "    <tr>\n",
       "      <th>count</th>\n",
       "      <td>1000.000000</td>\n",
       "    </tr>\n",
       "    <tr>\n",
       "      <th>mean</th>\n",
       "      <td>0.772000</td>\n",
       "    </tr>\n",
       "    <tr>\n",
       "      <th>std</th>\n",
       "      <td>0.419753</td>\n",
       "    </tr>\n",
       "    <tr>\n",
       "      <th>min</th>\n",
       "      <td>0.000000</td>\n",
       "    </tr>\n",
       "    <tr>\n",
       "      <th>25%</th>\n",
       "      <td>1.000000</td>\n",
       "    </tr>\n",
       "    <tr>\n",
       "      <th>50%</th>\n",
       "      <td>1.000000</td>\n",
       "    </tr>\n",
       "    <tr>\n",
       "      <th>75%</th>\n",
       "      <td>1.000000</td>\n",
       "    </tr>\n",
       "    <tr>\n",
       "      <th>max</th>\n",
       "      <td>1.000000</td>\n",
       "    </tr>\n",
       "  </tbody>\n",
       "</table>\n",
       "</div>"
      ],
      "text/plain": [
       "            Target\n",
       "count  1000.000000\n",
       "mean      0.772000\n",
       "std       0.419753\n",
       "min       0.000000\n",
       "25%       1.000000\n",
       "50%       1.000000\n",
       "75%       1.000000\n",
       "max       1.000000"
      ]
     },
     "execution_count": 5,
     "metadata": {},
     "output_type": "execute_result"
    }
   ],
   "source": [
    "data_raw.describe()"
   ]
  },
  {
   "cell_type": "code",
   "execution_count": 6,
   "metadata": {},
   "outputs": [
    {
     "data": {
      "image/png": "[encoded data removed]",
      "text/plain": [
       "<Figure size 921.6x633.6 with 1 Axes>"
      ]
     },
     "metadata": {},
     "output_type": "display_data"
    }
   ],
   "source": [
    "data_raw.hist(bins=50)\n",
    "plt.show()"
   ]
  },
  {
   "cell_type": "markdown",
   "metadata": {},
   "source": [
    "The two classes are unbalanced. While separating we it is import to keep the same stratification in order to prevent sampling bias. Let's separate our test set."
   ]
  },
  {
   "cell_type": "code",
   "execution_count": 7,
   "metadata": {
    "collapsed": true
   },
   "outputs": [],
   "source": [
    "from sklearn.model_selection import StratifiedShuffleSplit\n",
    "\n",
    "spliter = StratifiedShuffleSplit(n_splits=1, test_size=0.2, random_state=42)"
   ]
  },
  {
   "cell_type": "code",
   "execution_count": 8,
   "metadata": {},
   "outputs": [],
   "source": [
    "for train_idx, test_idx in spliter.split(data_raw, data_raw['Target']):\n",
    "    train_set = data_raw.loc[train_idx]\n",
    "    test_set = data_raw.loc[test_idx]\n",
    "    \n",
    "test_set.to_csv('classificacao_Q3__test.csv')"
   ]
  },
  {
   "cell_type": "markdown",
   "metadata": {},
   "source": [
    "So...we have a binary classification problema. Features are in general categorical. We have to find an way to quantify those features. We could try, at first, simple discretization (e.g. atribute for female gender number 0 and 1 to male). \n",
    "\n",
    "If this doesn't work, we could try one hot enconding. Don't worry right now, we'll get there if necessary!"
   ]
  },
  {
   "cell_type": "markdown",
   "metadata": {},
   "source": [
    "Fourtunatelly, scikit-learn has a module that could help us, it's name LabelEnconder. Since we are in steps os preprocessing data it is clever to create what we call **Pipelane**. This helps to create a chain of process based on a final project."
   ]
  },
  {
   "cell_type": "code",
   "execution_count": 9,
   "metadata": {
    "collapsed": true
   },
   "outputs": [],
   "source": [
    "# Thinking in a end-application, we have to create a class to handle dataframe, since sklearn does not handle it yet.\n",
    "\n",
    "from sklearn.base import BaseEstimator, TransformerMixin\n",
    "\n",
    "class DataFrameSelector(BaseEstimator, TransformerMixin):\n",
    "    def __init__(self, attributes_name):\n",
    "        self.attribute_names = attributes_name\n",
    "    def fit(self, X, y=None):\n",
    "        return self\n",
    "    def transform(self, X):\n",
    "        return X[self.attribute_names].values                "
   ]
  },
  {
   "cell_type": "code",
   "execution_count": 10,
   "metadata": {},
   "outputs": [],
   "source": [
    "from sklearn.preprocessing import LabelEncoder\n",
    "\n",
    "class CategoricalAtributes(BaseEstimator, TransformerMixin):\n",
    "    def __init__(self):\n",
    "        pass\n",
    "    def fit(self, X, y=None):\n",
    "        \n",
    "        _, n_features = X.shape      \n",
    "        self.label_enconder = [LabelEncoder() for _ in range(n_features)]\n",
    "        \n",
    "        for i in range(n_features):\n",
    "            le = self.label_enconder[i]\n",
    "            Xi = X[:,i]\n",
    "            le.fit(Xi)\n",
    "            \n",
    "        #self.categories = [le for le in self.label_enconder]\n",
    "        \n",
    "        return self\n",
    "    \n",
    "    def transform(self, X):\n",
    "        \n",
    "        _, n_features = X.shape\n",
    "        \n",
    "        for i in range(n_features):\n",
    "            le = self.label_enconder[i]\n",
    "            X[:,i] = le.transform(X[:,i])\n",
    "        \n",
    "        return X"
   ]
  },
  {
   "cell_type": "markdown",
   "metadata": {},
   "source": [
    "Let's test our methods:"
   ]
  },
  {
   "cell_type": "code",
   "execution_count": 11,
   "metadata": {},
   "outputs": [
    {
     "name": "stdout",
     "output_type": "stream",
     "text": [
      "[[0 1 1 0]\n",
      " [1 2 0 0]\n",
      " [0 4 3 1]\n",
      " ...\n",
      " [1 2 1 1]\n",
      " [0 0 0 4]\n",
      " [0 1 0 4]]\n"
     ]
    }
   ],
   "source": [
    "categorical_atrributes = ['Genero', 'Idade', 'Escolaridade', 'Profissao']\n",
    "\n",
    "df2array = DataFrameSelector(categorical_atrributes)\n",
    "label_encoder = CategoricalAtributes()\n",
    "\n",
    "data_raw_array = df2array.fit_transform(train_set)\n",
    "data_raw_labeled = label_encoder.fit_transform(data_raw_array)\n",
    "\n",
    "print(data_raw_labeled)"
   ]
  },
  {
   "cell_type": "markdown",
   "metadata": {},
   "source": [
    "Well done! It is working. Let make it more organized and create a Pipelane. We also are going to include standardization."
   ]
  },
  {
   "cell_type": "code",
   "execution_count": 12,
   "metadata": {
    "collapsed": true
   },
   "outputs": [],
   "source": [
    "from sklearn.pipeline import Pipeline\n",
    "from sklearn.preprocessing import StandardScaler\n",
    "\n",
    "data_preprocessing = Pipeline([('selector', DataFrameSelector(categorical_atrributes)),\n",
    "                               ('label_encoder', CategoricalAtributes()),\n",
    "                               ('std_scaler', StandardScaler())\n",
    "                              ])"
   ]
  },
  {
   "cell_type": "code",
   "execution_count": 13,
   "metadata": {},
   "outputs": [
    {
     "data": {
      "text/html": [
       "<div>\n",
       "<style>\n",
       "    .dataframe thead tr:only-child th {\n",
       "        text-align: right;\n",
       "    }\n",
       "\n",
       "    .dataframe thead th {\n",
       "        text-align: left;\n",
       "    }\n",
       "\n",
       "    .dataframe tbody tr th {\n",
       "        vertical-align: top;\n",
       "    }\n",
       "</style>\n",
       "<table border=\"1\" class=\"dataframe\">\n",
       "  <thead>\n",
       "    <tr style=\"text-align: right;\">\n",
       "      <th></th>\n",
       "      <th>Genero</th>\n",
       "      <th>Idade</th>\n",
       "      <th>Escolaridade</th>\n",
       "      <th>Profissao</th>\n",
       "      <th>Target</th>\n",
       "    </tr>\n",
       "  </thead>\n",
       "  <tbody>\n",
       "    <tr>\n",
       "      <th>219</th>\n",
       "      <td>F</td>\n",
       "      <td>b - 26 a 35 anos</td>\n",
       "      <td>Medio</td>\n",
       "      <td>a</td>\n",
       "      <td>0</td>\n",
       "    </tr>\n",
       "    <tr>\n",
       "      <th>453</th>\n",
       "      <td>M</td>\n",
       "      <td>c - 36 a 45 anos</td>\n",
       "      <td>Fundamental</td>\n",
       "      <td>a</td>\n",
       "      <td>0</td>\n",
       "    </tr>\n",
       "    <tr>\n",
       "      <th>7</th>\n",
       "      <td>F</td>\n",
       "      <td>e - Mais 56 anos</td>\n",
       "      <td>Superior</td>\n",
       "      <td>b</td>\n",
       "      <td>1</td>\n",
       "    </tr>\n",
       "    <tr>\n",
       "      <th>678</th>\n",
       "      <td>M</td>\n",
       "      <td>c - 36 a 45 anos</td>\n",
       "      <td>Fundamental</td>\n",
       "      <td>a</td>\n",
       "      <td>1</td>\n",
       "    </tr>\n",
       "    <tr>\n",
       "      <th>116</th>\n",
       "      <td>M</td>\n",
       "      <td>e - Mais 56 anos</td>\n",
       "      <td>Medio</td>\n",
       "      <td>a</td>\n",
       "      <td>1</td>\n",
       "    </tr>\n",
       "    <tr>\n",
       "      <th>756</th>\n",
       "      <td>M</td>\n",
       "      <td>e - Mais 56 anos</td>\n",
       "      <td>Fundamental</td>\n",
       "      <td>c</td>\n",
       "      <td>1</td>\n",
       "    </tr>\n",
       "    <tr>\n",
       "      <th>287</th>\n",
       "      <td>F</td>\n",
       "      <td>c - 36 a 45 anos</td>\n",
       "      <td>Fundamental</td>\n",
       "      <td>a</td>\n",
       "      <td>0</td>\n",
       "    </tr>\n",
       "    <tr>\n",
       "      <th>455</th>\n",
       "      <td>F</td>\n",
       "      <td>b - 26 a 35 anos</td>\n",
       "      <td>Fundamental</td>\n",
       "      <td>a</td>\n",
       "      <td>1</td>\n",
       "    </tr>\n",
       "    <tr>\n",
       "      <th>384</th>\n",
       "      <td>F</td>\n",
       "      <td>a - Ate 25 anos</td>\n",
       "      <td>Fundamental</td>\n",
       "      <td>d</td>\n",
       "      <td>1</td>\n",
       "    </tr>\n",
       "    <tr>\n",
       "      <th>286</th>\n",
       "      <td>F</td>\n",
       "      <td>b - 26 a 35 anos</td>\n",
       "      <td>Medio</td>\n",
       "      <td>b</td>\n",
       "      <td>0</td>\n",
       "    </tr>\n",
       "    <tr>\n",
       "      <th>589</th>\n",
       "      <td>M</td>\n",
       "      <td>a - Ate 25 anos</td>\n",
       "      <td>Fundamental</td>\n",
       "      <td>a</td>\n",
       "      <td>0</td>\n",
       "    </tr>\n",
       "    <tr>\n",
       "      <th>594</th>\n",
       "      <td>F</td>\n",
       "      <td>c - 36 a 45 anos</td>\n",
       "      <td>Fundamental</td>\n",
       "      <td>b</td>\n",
       "      <td>1</td>\n",
       "    </tr>\n",
       "    <tr>\n",
       "      <th>167</th>\n",
       "      <td>F</td>\n",
       "      <td>a - Ate 25 anos</td>\n",
       "      <td>Fundamental</td>\n",
       "      <td>d</td>\n",
       "      <td>1</td>\n",
       "    </tr>\n",
       "    <tr>\n",
       "      <th>28</th>\n",
       "      <td>F</td>\n",
       "      <td>b - 26 a 35 anos</td>\n",
       "      <td>Fundamental</td>\n",
       "      <td>b</td>\n",
       "      <td>0</td>\n",
       "    </tr>\n",
       "    <tr>\n",
       "      <th>725</th>\n",
       "      <td>F</td>\n",
       "      <td>b - 26 a 35 anos</td>\n",
       "      <td>Fundamental</td>\n",
       "      <td>b</td>\n",
       "      <td>1</td>\n",
       "    </tr>\n",
       "    <tr>\n",
       "      <th>401</th>\n",
       "      <td>M</td>\n",
       "      <td>d - 46 a 55 anos</td>\n",
       "      <td>Superior</td>\n",
       "      <td>b</td>\n",
       "      <td>1</td>\n",
       "    </tr>\n",
       "    <tr>\n",
       "      <th>149</th>\n",
       "      <td>M</td>\n",
       "      <td>d - 46 a 55 anos</td>\n",
       "      <td>Medio</td>\n",
       "      <td>a</td>\n",
       "      <td>1</td>\n",
       "    </tr>\n",
       "    <tr>\n",
       "      <th>541</th>\n",
       "      <td>F</td>\n",
       "      <td>b - 26 a 35 anos</td>\n",
       "      <td>Superior</td>\n",
       "      <td>b</td>\n",
       "      <td>1</td>\n",
       "    </tr>\n",
       "    <tr>\n",
       "      <th>140</th>\n",
       "      <td>F</td>\n",
       "      <td>c - 36 a 45 anos</td>\n",
       "      <td>Medio</td>\n",
       "      <td>a</td>\n",
       "      <td>1</td>\n",
       "    </tr>\n",
       "    <tr>\n",
       "      <th>83</th>\n",
       "      <td>M</td>\n",
       "      <td>b - 26 a 35 anos</td>\n",
       "      <td>Fundamental</td>\n",
       "      <td>b</td>\n",
       "      <td>0</td>\n",
       "    </tr>\n",
       "    <tr>\n",
       "      <th>522</th>\n",
       "      <td>M</td>\n",
       "      <td>e - Mais 56 anos</td>\n",
       "      <td>Medio</td>\n",
       "      <td>b</td>\n",
       "      <td>1</td>\n",
       "    </tr>\n",
       "    <tr>\n",
       "      <th>392</th>\n",
       "      <td>F</td>\n",
       "      <td>e - Mais 56 anos</td>\n",
       "      <td>Fundamental</td>\n",
       "      <td>b</td>\n",
       "      <td>1</td>\n",
       "    </tr>\n",
       "    <tr>\n",
       "      <th>861</th>\n",
       "      <td>M</td>\n",
       "      <td>a - Ate 25 anos</td>\n",
       "      <td>Medio</td>\n",
       "      <td>d</td>\n",
       "      <td>1</td>\n",
       "    </tr>\n",
       "    <tr>\n",
       "      <th>556</th>\n",
       "      <td>M</td>\n",
       "      <td>b - 26 a 35 anos</td>\n",
       "      <td>Fundamental</td>\n",
       "      <td>a</td>\n",
       "      <td>1</td>\n",
       "    </tr>\n",
       "    <tr>\n",
       "      <th>894</th>\n",
       "      <td>F</td>\n",
       "      <td>b - 26 a 35 anos</td>\n",
       "      <td>Fundamental</td>\n",
       "      <td>b</td>\n",
       "      <td>1</td>\n",
       "    </tr>\n",
       "    <tr>\n",
       "      <th>771</th>\n",
       "      <td>M</td>\n",
       "      <td>b - 26 a 35 anos</td>\n",
       "      <td>Medio</td>\n",
       "      <td>b</td>\n",
       "      <td>1</td>\n",
       "    </tr>\n",
       "    <tr>\n",
       "      <th>778</th>\n",
       "      <td>M</td>\n",
       "      <td>d - 46 a 55 anos</td>\n",
       "      <td>Superior</td>\n",
       "      <td>a</td>\n",
       "      <td>0</td>\n",
       "    </tr>\n",
       "    <tr>\n",
       "      <th>593</th>\n",
       "      <td>F</td>\n",
       "      <td>c - 36 a 45 anos</td>\n",
       "      <td>Superior</td>\n",
       "      <td>b</td>\n",
       "      <td>0</td>\n",
       "    </tr>\n",
       "    <tr>\n",
       "      <th>997</th>\n",
       "      <td>M</td>\n",
       "      <td>b - 26 a 35 anos</td>\n",
       "      <td>Medio</td>\n",
       "      <td>b</td>\n",
       "      <td>1</td>\n",
       "    </tr>\n",
       "    <tr>\n",
       "      <th>646</th>\n",
       "      <td>M</td>\n",
       "      <td>a - Ate 25 anos</td>\n",
       "      <td>Superior</td>\n",
       "      <td>b</td>\n",
       "      <td>0</td>\n",
       "    </tr>\n",
       "    <tr>\n",
       "      <th>...</th>\n",
       "      <td>...</td>\n",
       "      <td>...</td>\n",
       "      <td>...</td>\n",
       "      <td>...</td>\n",
       "      <td>...</td>\n",
       "    </tr>\n",
       "    <tr>\n",
       "      <th>974</th>\n",
       "      <td>F</td>\n",
       "      <td>c - 36 a 45 anos</td>\n",
       "      <td>Medio</td>\n",
       "      <td>b</td>\n",
       "      <td>1</td>\n",
       "    </tr>\n",
       "    <tr>\n",
       "      <th>696</th>\n",
       "      <td>M</td>\n",
       "      <td>b - 26 a 35 anos</td>\n",
       "      <td>Fundamental</td>\n",
       "      <td>a</td>\n",
       "      <td>1</td>\n",
       "    </tr>\n",
       "    <tr>\n",
       "      <th>166</th>\n",
       "      <td>F</td>\n",
       "      <td>e - Mais 56 anos</td>\n",
       "      <td>Fundamental</td>\n",
       "      <td>a</td>\n",
       "      <td>1</td>\n",
       "    </tr>\n",
       "    <tr>\n",
       "      <th>212</th>\n",
       "      <td>F</td>\n",
       "      <td>a - Ate 25 anos</td>\n",
       "      <td>Medio</td>\n",
       "      <td>e</td>\n",
       "      <td>1</td>\n",
       "    </tr>\n",
       "    <tr>\n",
       "      <th>614</th>\n",
       "      <td>M</td>\n",
       "      <td>b - 26 a 35 anos</td>\n",
       "      <td>Fundamental</td>\n",
       "      <td>a</td>\n",
       "      <td>0</td>\n",
       "    </tr>\n",
       "    <tr>\n",
       "      <th>828</th>\n",
       "      <td>F</td>\n",
       "      <td>a - Ate 25 anos</td>\n",
       "      <td>Fundamental</td>\n",
       "      <td>a</td>\n",
       "      <td>0</td>\n",
       "    </tr>\n",
       "    <tr>\n",
       "      <th>764</th>\n",
       "      <td>M</td>\n",
       "      <td>d - 46 a 55 anos</td>\n",
       "      <td>Medio</td>\n",
       "      <td>a</td>\n",
       "      <td>1</td>\n",
       "    </tr>\n",
       "    <tr>\n",
       "      <th>567</th>\n",
       "      <td>M</td>\n",
       "      <td>a - Ate 25 anos</td>\n",
       "      <td>Superior</td>\n",
       "      <td>a</td>\n",
       "      <td>1</td>\n",
       "    </tr>\n",
       "    <tr>\n",
       "      <th>13</th>\n",
       "      <td>F</td>\n",
       "      <td>b - 26 a 35 anos</td>\n",
       "      <td>Superior</td>\n",
       "      <td>b</td>\n",
       "      <td>1</td>\n",
       "    </tr>\n",
       "    <tr>\n",
       "      <th>533</th>\n",
       "      <td>F</td>\n",
       "      <td>c - 36 a 45 anos</td>\n",
       "      <td>Fundamental</td>\n",
       "      <td>a</td>\n",
       "      <td>1</td>\n",
       "    </tr>\n",
       "    <tr>\n",
       "      <th>403</th>\n",
       "      <td>M</td>\n",
       "      <td>b - 26 a 35 anos</td>\n",
       "      <td>Fundamental</td>\n",
       "      <td>b</td>\n",
       "      <td>1</td>\n",
       "    </tr>\n",
       "    <tr>\n",
       "      <th>772</th>\n",
       "      <td>M</td>\n",
       "      <td>e - Mais 56 anos</td>\n",
       "      <td>Fundamental</td>\n",
       "      <td>c</td>\n",
       "      <td>1</td>\n",
       "    </tr>\n",
       "    <tr>\n",
       "      <th>238</th>\n",
       "      <td>F</td>\n",
       "      <td>a - Ate 25 anos</td>\n",
       "      <td>Medio</td>\n",
       "      <td>d</td>\n",
       "      <td>1</td>\n",
       "    </tr>\n",
       "    <tr>\n",
       "      <th>423</th>\n",
       "      <td>M</td>\n",
       "      <td>d - 46 a 55 anos</td>\n",
       "      <td>Medio</td>\n",
       "      <td>d</td>\n",
       "      <td>1</td>\n",
       "    </tr>\n",
       "    <tr>\n",
       "      <th>921</th>\n",
       "      <td>F</td>\n",
       "      <td>c - 36 a 45 anos</td>\n",
       "      <td>Fundamental</td>\n",
       "      <td>a</td>\n",
       "      <td>0</td>\n",
       "    </tr>\n",
       "    <tr>\n",
       "      <th>528</th>\n",
       "      <td>F</td>\n",
       "      <td>b - 26 a 35 anos</td>\n",
       "      <td>Fundamental</td>\n",
       "      <td>b</td>\n",
       "      <td>1</td>\n",
       "    </tr>\n",
       "    <tr>\n",
       "      <th>457</th>\n",
       "      <td>M</td>\n",
       "      <td>b - 26 a 35 anos</td>\n",
       "      <td>Fundamental</td>\n",
       "      <td>d</td>\n",
       "      <td>1</td>\n",
       "    </tr>\n",
       "    <tr>\n",
       "      <th>480</th>\n",
       "      <td>M</td>\n",
       "      <td>c - 36 a 45 anos</td>\n",
       "      <td>Superior</td>\n",
       "      <td>a</td>\n",
       "      <td>0</td>\n",
       "    </tr>\n",
       "    <tr>\n",
       "      <th>914</th>\n",
       "      <td>F</td>\n",
       "      <td>c - 36 a 45 anos</td>\n",
       "      <td>Medio</td>\n",
       "      <td>a</td>\n",
       "      <td>1</td>\n",
       "    </tr>\n",
       "    <tr>\n",
       "      <th>390</th>\n",
       "      <td>F</td>\n",
       "      <td>e - Mais 56 anos</td>\n",
       "      <td>Fundamental</td>\n",
       "      <td>b</td>\n",
       "      <td>1</td>\n",
       "    </tr>\n",
       "    <tr>\n",
       "      <th>89</th>\n",
       "      <td>F</td>\n",
       "      <td>e - Mais 56 anos</td>\n",
       "      <td>Fundamental</td>\n",
       "      <td>a</td>\n",
       "      <td>1</td>\n",
       "    </tr>\n",
       "    <tr>\n",
       "      <th>127</th>\n",
       "      <td>M</td>\n",
       "      <td>a - Ate 25 anos</td>\n",
       "      <td>Fundamental</td>\n",
       "      <td>a</td>\n",
       "      <td>1</td>\n",
       "    </tr>\n",
       "    <tr>\n",
       "      <th>618</th>\n",
       "      <td>M</td>\n",
       "      <td>c - 36 a 45 anos</td>\n",
       "      <td>Fundamental</td>\n",
       "      <td>d</td>\n",
       "      <td>1</td>\n",
       "    </tr>\n",
       "    <tr>\n",
       "      <th>814</th>\n",
       "      <td>F</td>\n",
       "      <td>e - Mais 56 anos</td>\n",
       "      <td>Fundamental</td>\n",
       "      <td>b</td>\n",
       "      <td>1</td>\n",
       "    </tr>\n",
       "    <tr>\n",
       "      <th>959</th>\n",
       "      <td>M</td>\n",
       "      <td>a - Ate 25 anos</td>\n",
       "      <td>Medio</td>\n",
       "      <td>b</td>\n",
       "      <td>0</td>\n",
       "    </tr>\n",
       "    <tr>\n",
       "      <th>682</th>\n",
       "      <td>F</td>\n",
       "      <td>b - 26 a 35 anos</td>\n",
       "      <td>Fundamental</td>\n",
       "      <td>b</td>\n",
       "      <td>1</td>\n",
       "    </tr>\n",
       "    <tr>\n",
       "      <th>798</th>\n",
       "      <td>M</td>\n",
       "      <td>c - 36 a 45 anos</td>\n",
       "      <td>Medio</td>\n",
       "      <td>a</td>\n",
       "      <td>1</td>\n",
       "    </tr>\n",
       "    <tr>\n",
       "      <th>695</th>\n",
       "      <td>M</td>\n",
       "      <td>c - 36 a 45 anos</td>\n",
       "      <td>Medio</td>\n",
       "      <td>b</td>\n",
       "      <td>1</td>\n",
       "    </tr>\n",
       "    <tr>\n",
       "      <th>753</th>\n",
       "      <td>F</td>\n",
       "      <td>a - Ate 25 anos</td>\n",
       "      <td>Fundamental</td>\n",
       "      <td>e</td>\n",
       "      <td>0</td>\n",
       "    </tr>\n",
       "    <tr>\n",
       "      <th>710</th>\n",
       "      <td>F</td>\n",
       "      <td>b - 26 a 35 anos</td>\n",
       "      <td>Fundamental</td>\n",
       "      <td>e</td>\n",
       "      <td>1</td>\n",
       "    </tr>\n",
       "  </tbody>\n",
       "</table>\n",
       "<p>800 rows × 5 columns</p>\n",
       "</div>"
      ],
      "text/plain": [
       "    Genero             Idade Escolaridade Profissao  Target\n",
       "219      F  b - 26 a 35 anos        Medio         a       0\n",
       "453      M  c - 36 a 45 anos  Fundamental         a       0\n",
       "7        F  e - Mais 56 anos     Superior         b       1\n",
       "678      M  c - 36 a 45 anos  Fundamental         a       1\n",
       "116      M  e - Mais 56 anos        Medio         a       1\n",
       "756      M  e - Mais 56 anos  Fundamental         c       1\n",
       "287      F  c - 36 a 45 anos  Fundamental         a       0\n",
       "455      F  b - 26 a 35 anos  Fundamental         a       1\n",
       "384      F  a - Ate 25 anos   Fundamental         d       1\n",
       "286      F  b - 26 a 35 anos        Medio         b       0\n",
       "589      M  a - Ate 25 anos   Fundamental         a       0\n",
       "594      F  c - 36 a 45 anos  Fundamental         b       1\n",
       "167      F  a - Ate 25 anos   Fundamental         d       1\n",
       "28       F  b - 26 a 35 anos  Fundamental         b       0\n",
       "725      F  b - 26 a 35 anos  Fundamental         b       1\n",
       "401      M  d - 46 a 55 anos     Superior         b       1\n",
       "149      M  d - 46 a 55 anos        Medio         a       1\n",
       "541      F  b - 26 a 35 anos     Superior         b       1\n",
       "140      F  c - 36 a 45 anos        Medio         a       1\n",
       "83       M  b - 26 a 35 anos  Fundamental         b       0\n",
       "522      M  e - Mais 56 anos        Medio         b       1\n",
       "392      F  e - Mais 56 anos  Fundamental         b       1\n",
       "861      M  a - Ate 25 anos         Medio         d       1\n",
       "556      M  b - 26 a 35 anos  Fundamental         a       1\n",
       "894      F  b - 26 a 35 anos  Fundamental         b       1\n",
       "771      M  b - 26 a 35 anos        Medio         b       1\n",
       "778      M  d - 46 a 55 anos     Superior         a       0\n",
       "593      F  c - 36 a 45 anos     Superior         b       0\n",
       "997      M  b - 26 a 35 anos        Medio         b       1\n",
       "646      M  a - Ate 25 anos      Superior         b       0\n",
       "..     ...               ...          ...       ...     ...\n",
       "974      F  c - 36 a 45 anos        Medio         b       1\n",
       "696      M  b - 26 a 35 anos  Fundamental         a       1\n",
       "166      F  e - Mais 56 anos  Fundamental         a       1\n",
       "212      F  a - Ate 25 anos         Medio         e       1\n",
       "614      M  b - 26 a 35 anos  Fundamental         a       0\n",
       "828      F  a - Ate 25 anos   Fundamental         a       0\n",
       "764      M  d - 46 a 55 anos        Medio         a       1\n",
       "567      M  a - Ate 25 anos      Superior         a       1\n",
       "13       F  b - 26 a 35 anos     Superior         b       1\n",
       "533      F  c - 36 a 45 anos  Fundamental         a       1\n",
       "403      M  b - 26 a 35 anos  Fundamental         b       1\n",
       "772      M  e - Mais 56 anos  Fundamental         c       1\n",
       "238      F  a - Ate 25 anos         Medio         d       1\n",
       "423      M  d - 46 a 55 anos        Medio         d       1\n",
       "921      F  c - 36 a 45 anos  Fundamental         a       0\n",
       "528      F  b - 26 a 35 anos  Fundamental         b       1\n",
       "457      M  b - 26 a 35 anos  Fundamental         d       1\n",
       "480      M  c - 36 a 45 anos     Superior         a       0\n",
       "914      F  c - 36 a 45 anos        Medio         a       1\n",
       "390      F  e - Mais 56 anos  Fundamental         b       1\n",
       "89       F  e - Mais 56 anos  Fundamental         a       1\n",
       "127      M  a - Ate 25 anos   Fundamental         a       1\n",
       "618      M  c - 36 a 45 anos  Fundamental         d       1\n",
       "814      F  e - Mais 56 anos  Fundamental         b       1\n",
       "959      M  a - Ate 25 anos         Medio         b       0\n",
       "682      F  b - 26 a 35 anos  Fundamental         b       1\n",
       "798      M  c - 36 a 45 anos        Medio         a       1\n",
       "695      M  c - 36 a 45 anos        Medio         b       1\n",
       "753      F  a - Ate 25 anos   Fundamental         e       0\n",
       "710      F  b - 26 a 35 anos  Fundamental         e       1\n",
       "\n",
       "[800 rows x 5 columns]"
      ]
     },
     "execution_count": 13,
     "metadata": {},
     "output_type": "execute_result"
    }
   ],
   "source": [
    "train_set"
   ]
  },
  {
   "cell_type": "code",
   "execution_count": 14,
   "metadata": {},
   "outputs": [
    {
     "name": "stderr",
     "output_type": "stream",
     "text": [
      "/home/navar/anaconda3/lib/python3.6/site-packages/sklearn/utils/validation.py:444: DataConversionWarning: Data with input dtype object was converted to float64 by StandardScaler.\n",
      "  warnings.warn(msg, DataConversionWarning)\n"
     ]
    }
   ],
   "source": [
    "X = data_preprocessing.fit_transform(train_set)\n",
    "y = train_set['Target'].values"
   ]
  },
  {
   "cell_type": "code",
   "execution_count": 15,
   "metadata": {},
   "outputs": [
    {
     "name": "stdout",
     "output_type": "stream",
     "text": [
      "[[-0.85314815 -0.5039557   0.14964793 -0.88461009]\n",
      " [ 1.17212936  0.28811613 -0.80049764 -0.88461009]\n",
      " [-0.85314815  1.87225979  2.04993907  0.0416832 ]\n",
      " ...\n",
      " [ 1.17212936  0.28811613  0.14964793  0.0416832 ]\n",
      " [-0.85314815 -1.29602753 -0.80049764  2.82056307]\n",
      " [-0.85314815 -0.5039557  -0.80049764  2.82056307]]\n",
      "[0 0 1 1 1 1 0 1 1 0 0 1 1 0 1 1 1 1 1 0 1 1 1 1 1 1 0 0 1 0 1 1 1 1 1 1 1\n",
      " 1 1 1 1 1 1 1 1 1 1 1 0 1 0 1 0 1 1 0 1 1 1 0 1 1 1 1 1 1 0 1 1 1 1 1 1 0\n",
      " 0 1 1 1 0 1 1 1 1 1 1 1 1 1 1 1 1 1 0 0 1 1 1 1 1 1 1 1 1 1 1 1 0 1 1 1 0\n",
      " 1 1 0 1 1 1 1 1 1 1 1 1 0 0 1 1 1 1 1 1 1 1 1 1 1 0 1 1 1 1 1 1 1 1 1 0 1\n",
      " 1 1 1 1 1 1 0 1 0 1 1 1 1 1 1 0 1 1 1 0 1 0 1 1 1 1 1 1 1 0 1 1 1 1 1 1 1\n",
      " 1 1 1 0 1 0 1 1 1 0 1 0 0 1 1 0 1 0 1 1 1 1 0 1 1 1 1 0 1 0 1 1 1 1 1 1 1\n",
      " 1 0 1 1 1 0 0 1 1 1 1 1 0 1 1 1 0 0 1 1 1 1 1 1 0 1 1 1 1 0 0 1 1 1 1 0 1\n",
      " 1 1 1 1 1 1 0 1 1 1 1 1 1 0 1 1 0 0 1 0 1 1 0 1 1 1 1 1 1 1 0 1 1 1 1 1 1\n",
      " 1 1 0 0 1 1 0 0 1 1 1 0 1 1 1 1 1 1 0 0 1 1 0 1 1 1 1 0 1 1 0 1 1 1 1 0 0\n",
      " 0 1 1 1 1 1 0 1 1 1 1 1 1 0 1 1 1 1 1 1 0 1 1 0 1 1 1 1 0 1 1 1 1 1 1 1 1\n",
      " 1 0 1 1 1 1 1 1 1 1 1 1 0 0 1 0 1 1 1 1 1 1 1 1 1 1 1 1 1 1 1 1 1 1 1 1 1\n",
      " 1 1 0 1 1 1 1 1 1 1 1 1 1 1 1 1 1 1 1 1 0 1 1 1 1 1 1 0 1 0 1 0 1 1 1 1 1\n",
      " 1 1 1 0 1 1 1 1 1 1 1 1 0 1 1 1 1 0 1 1 1 0 1 1 1 0 1 0 1 1 1 1 1 1 1 0 1\n",
      " 1 1 1 1 0 1 1 1 1 0 1 1 1 1 1 0 0 1 0 1 0 1 1 0 0 1 1 0 1 0 1 1 0 1 1 1 0\n",
      " 1 1 0 1 1 1 1 1 1 1 1 1 1 1 1 1 0 1 1 1 1 1 1 1 0 1 1 1 1 1 1 1 1 1 0 1 0\n",
      " 1 1 0 0 0 0 1 0 1 0 1 0 1 1 0 1 1 1 1 1 1 1 1 1 1 1 0 0 0 0 1 1 1 1 0 1 1\n",
      " 1 1 1 0 1 1 1 1 0 1 1 1 0 0 0 1 0 1 1 0 1 1 1 0 1 0 0 0 1 1 1 1 1 1 1 1 0\n",
      " 1 1 1 0 1 1 0 1 1 0 1 0 1 1 0 1 1 1 0 0 1 1 0 1 1 0 0 1 0 1 1 1 1 1 0 1 1\n",
      " 1 1 1 1 1 1 1 1 1 0 1 0 0 1 0 1 1 0 1 0 0 1 0 0 1 1 1 1 1 1 1 1 1 1 0 1 1\n",
      " 1 1 1 0 1 1 1 0 1 1 1 1 1 0 0 1 1 1 1 1 1 1 1 1 0 0 1 1 0 0 0 1 1 1 1 1 1\n",
      " 1 1 0 1 1 1 1 1 0 1 0 1 1 0 1 0 1 1 1 1 0 1 0 1 1 0 1 1 1 1 1 1 1 1 0 0 1\n",
      " 1 1 1 1 1 1 1 0 1 1 0 1 1 1 1 1 1 0 1 1 1 0 1]\n"
     ]
    }
   ],
   "source": [
    "print(X)\n",
    "print(y)"
   ]
  },
  {
   "cell_type": "markdown",
   "metadata": {},
   "source": [
    "All set! Let's begin to explore our data."
   ]
  },
  {
   "cell_type": "markdown",
   "metadata": {},
   "source": [
    "# Data exploration fase 2"
   ]
  },
  {
   "cell_type": "code",
   "execution_count": 16,
   "metadata": {
    "collapsed": true
   },
   "outputs": [],
   "source": [
    "array_for_plot = np.concatenate((X,y.reshape(y.shape[0],1)), axis=1)\n",
    "data_for_plot = pd.DataFrame(array_for_plot, columns=data_raw.columns)"
   ]
  },
  {
   "cell_type": "code",
   "execution_count": 17,
   "metadata": {},
   "outputs": [
    {
     "data": {
      "image/png": "[encoded data removed]",
      "text/plain": [
       "<Figure size 983.1x900 with 30 Axes>"
      ]
     },
     "metadata": {},
     "output_type": "display_data"
    }
   ],
   "source": [
    "import seaborn as sns\n",
    "\n",
    "sns.pairplot(data_for_plot, hue='Target')\n",
    "plt.show()"
   ]
  },
  {
   "cell_type": "markdown",
   "metadata": {},
   "source": [
    "Hum....when looking for 2-D plot apparently there are no differences from class 0 or 1. Let'se what a linear classifier tell us."
   ]
  },
  {
   "cell_type": "markdown",
   "metadata": {},
   "source": [
    "We need to define a score measure. For classification taks accuracy might be suitable while tuning hyperameters. We also are going to use cross validation to ensure a more reliable prediction."
   ]
  },
  {
   "cell_type": "code",
   "execution_count": 18,
   "metadata": {},
   "outputs": [
    {
     "name": "stdout",
     "output_type": "stream",
     "text": [
      "Perceptron accuracy: 68.88353649007657%\n"
     ]
    }
   ],
   "source": [
    "from sklearn.linear_model import Perceptron\n",
    "from sklearn.model_selection import cross_val_score\n",
    "\n",
    "perceptron_clf = Perceptron(max_iter=1000, eta0 = 0.1)\n",
    "\n",
    "perceptron_clf_scores = cross_val_score(perceptron_clf, X, y, scoring='accuracy', cv=10)\n",
    "\n",
    "print('Perceptron accuracy: {}%'.format(perceptron_clf_scores.mean()*100))"
   ]
  },
  {
   "cell_type": "markdown",
   "metadata": {},
   "source": [
    "Let's take a look where are our mistakes. A confusion matrix is suitable to answer those questions;"
   ]
  },
  {
   "cell_type": "code",
   "execution_count": 19,
   "metadata": {},
   "outputs": [
    {
     "name": "stdout",
     "output_type": "stream",
     "text": [
      "Average accuracy:\n",
      "0.68875\n",
      "Percentual confusion Matrix:\n"
     ]
    },
    {
     "data": {
      "text/plain": [
       "array([[29.67, 70.33],\n",
       "       [19.58, 80.42]])"
      ]
     },
     "execution_count": 19,
     "metadata": {},
     "output_type": "execute_result"
    }
   ],
   "source": [
    "from sklearn.model_selection import cross_val_predict\n",
    "from sklearn import metrics\n",
    "\n",
    "y_pred_perceptron = cross_val_predict(perceptron_clf, X, y, cv=10)\n",
    "\n",
    "def percentageConfMat(confMat):\n",
    "    return np.around((confMat/np.sum(confMat,axis=1)[:,None])*100,2)\n",
    "\n",
    "print('Average accuracy:')\n",
    "print(metrics.accuracy_score(y, y_pred_perceptron))\n",
    "print('Percentual confusion Matrix:')\n",
    "conf_mat_perceptron = metrics.confusion_matrix(y, y_pred_perceptron)\n",
    "percentageConfMat(conf_mat_perceptron)"
   ]
  },
  {
   "cell_type": "markdown",
   "metadata": {
    "collapsed": true
   },
   "source": [
    "That's not good at all!! class 1 is being correctly classified 80% of the time while class 0 about 30%. From out distribution we saw our **entire** data was distributed as: 25% of samples from class 0 and 75% from class 1. "
   ]
  },
  {
   "cell_type": "markdown",
   "metadata": {},
   "source": [
    "Before trying non-linear classifiers let's try a different approch to encode our categorical features using one-hot encoding."
   ]
  },
  {
   "cell_type": "markdown",
   "metadata": {
    "collapsed": true
   },
   "source": [
    "## Back to data preprocessing..."
   ]
  },
  {
   "cell_type": "code",
   "execution_count": 20,
   "metadata": {
    "collapsed": true
   },
   "outputs": [],
   "source": [
    "from sklearn.preprocessing import OneHotEncoder\n",
    "\n",
    "class oneHotEnconding(BaseEstimator, TransformerMixin):\n",
    "    def __init__(self):\n",
    "        pass\n",
    "    def fit(self, X, y=None):\n",
    "        encoder = OneHotEncoder()\n",
    "        self.encoder = encoder\n",
    "        \n",
    "        return encoder.fit(X)\n",
    "    \n",
    "    def transform(self, X):\n",
    "        data = self.encoder.transform(X)\n",
    "        return data.toarray()"
   ]
  },
  {
   "cell_type": "code",
   "execution_count": 21,
   "metadata": {},
   "outputs": [],
   "source": [
    "data_preprocessing_1hot = Pipeline([('selector', DataFrameSelector(categorical_atrributes)),\n",
    "                               ('label_encoder', CategoricalAtributes()),\n",
    "                               ('encoder_1hot', oneHotEnconding())\n",
    "                              ])\n",
    "X_1hot = data_preprocessing_1hot.fit_transform(train_set).toarray()\n",
    "y = train_set['Target'].values"
   ]
  },
  {
   "cell_type": "markdown",
   "metadata": {},
   "source": [
    "Let's see how the Perceptron perfoms under a dataset one-hot encoded."
   ]
  },
  {
   "cell_type": "code",
   "execution_count": 22,
   "metadata": {},
   "outputs": [
    {
     "name": "stdout",
     "output_type": "stream",
     "text": [
      "Average accuracy:\n",
      "0.75125\n",
      "Percentual confusion Matrix:\n"
     ]
    },
    {
     "data": {
      "text/plain": [
       "array([[37.36, 62.64],\n",
       "       [13.75, 86.25]])"
      ]
     },
     "execution_count": 22,
     "metadata": {},
     "output_type": "execute_result"
    }
   ],
   "source": [
    "y_pred_perceptron_1hot = cross_val_predict(perceptron_clf, X_1hot, y, cv=10)\n",
    "\n",
    "print('Average accuracy:')\n",
    "print(metrics.accuracy_score(y, y_pred_perceptron_1hot))\n",
    "print('Percentual confusion Matrix:')\n",
    "conf_mat_perceptron = metrics.confusion_matrix(y, y_pred_perceptron_1hot)\n",
    "percentageConfMat(conf_mat_perceptron)"
   ]
  },
  {
   "cell_type": "markdown",
   "metadata": {},
   "source": [
    "A little beter...so using 1 out of k enconding scheme has demonstrated to be more suitable. Btw, since all of our variables are in the same range, there is no need for feature scaling."
   ]
  },
  {
   "cell_type": "markdown",
   "metadata": {
    "collapsed": true
   },
   "source": [
    "Let's try a non-linear model! We'll pick three different paradigms of classifiers and right now are now concerning about hyperparameter tuning. We'll see how they go and later fine tuning them. Sklearn has a fine default settings."
   ]
  },
  {
   "cell_type": "code",
   "execution_count": 23,
   "metadata": {
    "collapsed": true
   },
   "outputs": [],
   "source": [
    "from sklearn.neighbors import KNeighborsClassifier\n",
    "from sklearn.naive_bayes import GaussianNB\n",
    "from sklearn.tree import DecisionTreeClassifier\n",
    "\n",
    "knn_clf = KNeighborsClassifier()\n",
    "naive_bayes_clf = GaussianNB()\n",
    "dtree_clf = DecisionTreeClassifier()"
   ]
  },
  {
   "cell_type": "code",
   "execution_count": 24,
   "metadata": {},
   "outputs": [
    {
     "name": "stdout",
     "output_type": "stream",
     "text": [
      "#### KNN ####\n",
      "Average accuracy:\n",
      "0.74625\n",
      "Percentual confusion Matrix:\n",
      "[[19.23 80.77]\n",
      " [ 9.06 90.94]]\n",
      "#### Naive-Bayes ####\n",
      "Average accuracy:\n",
      "0.57875\n",
      "Percentual confusion Matrix:\n",
      "[[85.16 14.84]\n",
      " [50.16 49.84]]\n",
      "#### Decision tree ####\n",
      "Average accuracy:\n",
      "0.75375\n",
      "Percentual confusion Matrix:\n",
      "[[24.73 75.27]\n",
      " [ 9.71 90.29]]\n"
     ]
    }
   ],
   "source": [
    "y_pred_knn = cross_val_predict(knn_clf, X_1hot, y, cv=10)\n",
    "y_pred_naive_bayes = cross_val_predict(naive_bayes_clf, X_1hot, y, cv=10)\n",
    "y_pred_dtree = cross_val_predict(dtree_clf, X_1hot, y, cv=10)\n",
    "\n",
    "print('#### KNN ####')\n",
    "print('Average accuracy:')\n",
    "print(metrics.accuracy_score(y, y_pred_knn))\n",
    "print('Percentual confusion Matrix:')\n",
    "conf_mat_knn = metrics.confusion_matrix(y, y_pred_knn)\n",
    "print(percentageConfMat(conf_mat_knn))\n",
    "\n",
    "print('#### Naive-Bayes ####')\n",
    "print('Average accuracy:')\n",
    "print(metrics.accuracy_score(y, y_pred_naive_bayes))\n",
    "print('Percentual confusion Matrix:')\n",
    "conf_mat_naive_bayes = metrics.confusion_matrix(y, y_pred_naive_bayes)\n",
    "print(percentageConfMat(conf_mat_naive_bayes))\n",
    "\n",
    "print('#### Decision tree ####')\n",
    "print('Average accuracy:')\n",
    "print(metrics.accuracy_score(y, y_pred_dtree))\n",
    "print('Percentual confusion Matrix:')\n",
    "conf_mat_dtree = metrics.confusion_matrix(y, y_pred_dtree)\n",
    "print(percentageConfMat(conf_mat_dtree))"
   ]
  },
  {
   "cell_type": "markdown",
   "metadata": {
    "collapsed": true
   },
   "source": [
    "Naive-Bayes...not so good for know. I know I said non-linear classifiers, and accuatlly Naive-bayes is learn since it take accounts of a diagonal covariance matrix for all classes. We arrive with a linear discriminant for each class.\n",
    "\n",
    "Before fine-tuning these models I'm curious to see how the MLP perfoms on this dataset. Let's take a look into it."
   ]
  },
  {
   "cell_type": "code",
   "execution_count": 40,
   "metadata": {},
   "outputs": [
    {
     "name": "stdout",
     "output_type": "stream",
     "text": [
      "#### MLP ####\n",
      "Average accuracy:\n",
      "0.77\n",
      "Percentual confusion Matrix:\n",
      "[[28.02 71.98]\n",
      " [ 8.58 91.42]]\n"
     ]
    }
   ],
   "source": [
    "from sklearn.neural_network import MLPClassifier\n",
    "\n",
    "mlp_clf = MLPClassifier(hidden_layer_sizes=(300,), activation='relu', solver='adam',\n",
    "                        learning_rate='adaptive', max_iter = 1000)\n",
    "\n",
    "y_pred_mlp = cross_val_predict(mlp_clf, X_1hot, y, cv=2)\n",
    "\n",
    "print('#### MLP ####')\n",
    "print('Average accuracy:')\n",
    "print(metrics.accuracy_score(y, y_pred_mlp))\n",
    "print('Percentual confusion Matrix:')\n",
    "conf_mat_mlp = metrics.confusion_matrix(y, y_pred_mlp)\n",
    "print(percentageConfMat(conf_mat_mlp))"
   ]
  },
  {
   "cell_type": "markdown",
   "metadata": {
    "collapsed": true
   },
   "source": [
    "MLP was a little better. Do not look into overall accuracy. Look into the confusion matrix. The accuracy rate for class 0 improved to 28%. Before spending much time on MLP let's train the knn classifier."
   ]
  },
  {
   "cell_type": "code",
   "execution_count": 48,
   "metadata": {},
   "outputs": [
    {
     "name": "stdout",
     "output_type": "stream",
     "text": [
      "Fitting 10 folds for each of 42 candidates, totalling 420 fits\n"
     ]
    },
    {
     "name": "stderr",
     "output_type": "stream",
     "text": [
      "[Parallel(n_jobs=1)]: Done 420 out of 420 | elapsed:    7.8s finished\n"
     ]
    },
    {
     "data": {
      "text/plain": [
       "GridSearchCV(cv=10, error_score='raise',\n",
       "       estimator=KNeighborsClassifier(algorithm='auto', leaf_size=30, metric='minkowski',\n",
       "           metric_params=None, n_jobs=1, n_neighbors=5, p=2,\n",
       "           weights='uniform'),\n",
       "       fit_params=None, iid=True, n_jobs=1,\n",
       "       param_grid=[{'n_neighbors': [3, 5, 7, 9, 11, 20, 30], 'weights': ['distance'], 'p': [1, 2], 'metric': ['euclidean', 'manhattan', 'jaccard']}],\n",
       "       pre_dispatch='2*n_jobs', refit=True, return_train_score=True,\n",
       "       scoring='accuracy', verbose=1)"
      ]
     },
     "execution_count": 48,
     "metadata": {},
     "output_type": "execute_result"
    }
   ],
   "source": [
    "from sklearn.model_selection import GridSearchCV\n",
    "\n",
    "param_grid = [\n",
    "            {'n_neighbors': [3, 5, 7, 9, 11, 20, 30], 'weights': ['distance'],\n",
    "             'p': [1,2], 'metric': ['euclidean', 'manhattan', 'jaccard']\n",
    "            }\n",
    "            ]\n",
    "\n",
    "grid_search_knn = GridSearchCV(knn_clf, param_grid, scoring='accuracy', cv=10, verbose=1)\n",
    "\n",
    "grid_search_knn.fit(X_1hot, y)"
   ]
  },
  {
   "cell_type": "code",
   "execution_count": 50,
   "metadata": {},
   "outputs": [
    {
     "data": {
      "text/plain": [
       "KNeighborsClassifier(algorithm='auto', leaf_size=30, metric='euclidean',\n",
       "           metric_params=None, n_jobs=1, n_neighbors=20, p=1,\n",
       "           weights='distance')"
      ]
     },
     "execution_count": 50,
     "metadata": {},
     "output_type": "execute_result"
    }
   ],
   "source": [
    "grid_search_knn.best_estimator_"
   ]
  },
  {
   "cell_type": "code",
   "execution_count": 49,
   "metadata": {},
   "outputs": [
    {
     "data": {
      "text/plain": [
       "0.75625"
      ]
     },
     "execution_count": 49,
     "metadata": {},
     "output_type": "execute_result"
    }
   ],
   "source": [
    "grid_search_knn.best_score_"
   ]
  },
  {
   "cell_type": "markdown",
   "metadata": {},
   "source": [
    "Does not seem much improvment by looking at the overall accuracy."
   ]
  },
  {
   "cell_type": "code",
   "execution_count": 65,
   "metadata": {},
   "outputs": [
    {
     "name": "stdout",
     "output_type": "stream",
     "text": [
      "#### Best KNN ####\n",
      "Average accuracy:\n",
      "0.75625\n",
      "Percentual confusion Matrix:\n",
      "[[24.73 75.27]\n",
      " [ 9.39 90.61]]\n"
     ]
    }
   ],
   "source": [
    "y_pred_best_knn = cross_val_predict(grid_search_knn.best_estimator_, X_1hot, y, cv=10)\n",
    "\n",
    "print('#### Best KNN ####')\n",
    "print('Average accuracy:')\n",
    "print(metrics.accuracy_score(y, y_pred_best_knn))\n",
    "print('Percentual confusion Matrix:')\n",
    "conf_mat_bestKnn = metrics.confusion_matrix(y, y_pred_best_knn)\n",
    "print(percentageConfMat(conf_mat_bestKnn))"
   ]
  },
  {
   "cell_type": "code",
   "execution_count": null,
   "metadata": {
    "collapsed": true
   },
   "outputs": [],
   "source": []
  }
 ],
 "metadata": {
  "kernelspec": {
   "display_name": "Python 3",
   "language": "python",
   "name": "python3"
  },
  "language_info": {
   "codemirror_mode": {
    "name": "ipython",
    "version": 3
   },
   "file_extension": ".py",
   "mimetype": "text/x-python",
   "name": "python",
   "nbconvert_exporter": "python",
   "pygments_lexer": "ipython3",
   "version": "3.6.2"
  }
 },
 "nbformat": 4,
 "nbformat_minor": 2
}
